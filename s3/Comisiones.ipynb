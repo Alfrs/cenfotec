{
 "cells": [
  {
   "cell_type": "markdown",
   "metadata": {},
   "source": [
    "# Calculo de comisiones\n",
    "\n",
    "Cargue el archivo llamado \"ventas.csv\" y analicelo\n",
    "\n",
    "La comisión de cada vendedor corresponde al 6.25% sobre las utilidades generadas por el vendedor, desarrolle un programa que calcule la utilidad y la comisión de cada vendedor por tipo de producto. \n",
    "\n",
    "Por ejemplo: \n",
    "\n",
    "Input:\n",
    "\n",
    "| id_transaccion | id_producto | nombre_producto | id_vendedor | nombre_vendedor | monto_transaccion | gastos |\n",
    "|----------------|-------------|-----------------|-------------|-----------------|-------------------|--------|\n",
    "| 1| 1 | producto 1 | 1 | nombre 1 | 10 | 5 |\n",
    "| 2| 1 | producto 1 | 1 | nombre 1 | 10 | 6 |\n",
    "| 3| 2 | producto 2 | 1 | nombre 1 | 15 | 9 |\n",
    "| 4| 2 | producto 2 | 1 | nombre 1 | 15 | 12|\n",
    "| 1| 1 | producto 1 | 2 | nombre 2 | 10 | 3 |\n",
    "| 2| 1 | producto 2 | 2 | nombre 2 | 15 | 6 |\n",
    "| 3| 2 | producto 2 | 2 | nombre 2 | 15 | 5 |\n",
    "| 4| 2 | producto 2 | 2 | nombre 2 | 15 | 10|\n",
    "\n",
    "Output:\n",
    "\n",
    "| producto | nombre 1 | nombre 2 |\n",
    "|----------|----------|----------|\n",
    "| producto 1 | 0.625 | 0.4375 |\n",
    "| procucto 2 | 0.625 | 1.5 |\n",
    "\n"
   ]
  },
  {
   "cell_type": "code",
   "execution_count": 51,
   "metadata": {},
   "outputs": [
    {
     "name": "stdout",
     "output_type": "stream",
     "text": [
      "['0,3,agua,202,Snoop Dog,5,20\\n', '1,1,cafe,200,John Lennon,15,15\\n', '10,4,leche,203,El Chiky,30,38\\n', '100,1,cafe,200,John Lennon,15,20\\n', '101,2,te,201,Donald Trump,20,12\\n', '102,4,leche,203,El Chiky,30,0\\n', '103,2,te,201,Donald Trump,20,15\\n', '104,4,leche,203,El Chiky,30,7\\n', '105,2,te,201,Donald Trump,20,4\\n', '106,4,leche,203,El Chiky,30,6\\n', '107,4,leche,203,El Chiky,30,19\\n', '108,4,leche,203,El Chiky,30,1\\n', '109,3,agua,202,Snoop Dog,5,23\\n', '11,2,te,201,Donald Trump,20,18\\n', '110,1,cafe,200,John Lennon,15,39\\n', '111,2,te,201,Donald Trump,20,21\\n', '112,3,agua,202,Snoop Dog,5,18\\n', '113,3,agua,202,Snoop Dog,5,2\\n', '114,2,te,201,Donald Trump,20,9\\n', '115,2,te,201,Donald Trump,20,28\\n', '116,2,te,201,Donald Trump,20,6\\n', '117,2,te,201,Donald Trump,20,32\\n', '118,2,te,201,Donald Trump,20,29\\n', '119,1,cafe,200,John Lennon,15,21\\n', '12,4,leche,203,El Chiky,30,0\\n', '120,2,te,201,Donald Trump,20,22\\n', '121,2,te,201,Donald Trump,20,24\\n', '122,4,leche,203,El Chiky,30,19\\n', '123,1,cafe,200,John Lennon,15,7\\n', '124,1,cafe,200,John Lennon,15,8\\n', '125,1,cafe,200,John Lennon,15,21\\n', '126,3,agua,202,Snoop Dog,5,29\\n', '127,3,agua,202,Snoop Dog,5,3\\n', '128,4,leche,203,El Chiky,30,6\\n', '129,1,cafe,200,John Lennon,15,8\\n', '13,3,agua,202,Snoop Dog,5,12\\n', '130,4,leche,203,El Chiky,30,28\\n', '131,1,cafe,200,John Lennon,15,3\\n', '132,3,agua,202,Snoop Dog,5,11\\n', '133,1,cafe,200,John Lennon,15,38\\n', '134,4,leche,203,El Chiky,30,31\\n', '135,3,agua,202,Snoop Dog,5,30\\n', '136,1,cafe,200,John Lennon,15,26\\n', '137,3,agua,202,Snoop Dog,5,12\\n', '138,3,agua,202,Snoop Dog,5,37\\n', '139,3,agua,202,Snoop Dog,5,23\\n', '14,3,agua,202,Snoop Dog,5,37\\n', '140,2,te,201,Donald Trump,20,19\\n', '141,4,leche,203,El Chiky,30,19\\n', '142,2,te,201,Donald Trump,20,33\\n', '143,4,leche,203,El Chiky,30,10\\n', '144,2,te,201,Donald Trump,20,32\\n', '145,2,te,201,Donald Trump,20,1\\n', '146,3,agua,202,Snoop Dog,5,25\\n', '147,1,cafe,200,John Lennon,15,24\\n', '148,1,cafe,200,John Lennon,15,30\\n', '149,2,te,201,Donald Trump,20,32\\n', '15,2,te,201,Donald Trump,20,12\\n', '150,1,cafe,200,John Lennon,15,19\\n', '151,2,te,201,Donald Trump,20,28\\n', '152,4,leche,203,El Chiky,30,6\\n', '153,3,agua,202,Snoop Dog,5,21\\n', '154,2,te,201,Donald Trump,20,16\\n', '155,2,te,201,Donald Trump,20,14\\n', '156,3,agua,202,Snoop Dog,5,14\\n', '157,2,te,201,Donald Trump,20,2\\n', '158,2,te,201,Donald Trump,20,19\\n', '159,4,leche,203,El Chiky,30,5\\n', '16,3,agua,202,Snoop Dog,5,17\\n', '160,2,te,201,Donald Trump,20,26\\n', '161,3,agua,202,Snoop Dog,5,29\\n', '162,3,agua,202,Snoop Dog,5,0\\n', '163,2,te,201,Donald Trump,20,12\\n', '164,3,agua,202,Snoop Dog,5,32\\n', '165,3,agua,202,Snoop Dog,5,22\\n', '166,4,leche,203,El Chiky,30,0\\n', '167,4,leche,203,El Chiky,30,24\\n', '168,2,te,201,Donald Trump,20,24\\n', '169,2,te,201,Donald Trump,20,36\\n', '17,2,te,201,Donald Trump,20,6\\n', '170,3,agua,202,Snoop Dog,5,31\\n', '171,4,leche,203,El Chiky,30,6\\n', '172,4,leche,203,El Chiky,30,9\\n', '173,2,te,201,Donald Trump,20,9\\n', '174,2,te,201,Donald Trump,20,9\\n', '175,4,leche,203,El Chiky,30,25\\n', '176,3,agua,202,Snoop Dog,5,28\\n', '177,3,agua,202,Snoop Dog,5,21\\n', '178,2,te,201,Donald Trump,20,36\\n', '179,4,leche,203,El Chiky,30,10\\n', '18,3,agua,202,Snoop Dog,5,11\\n', '180,4,leche,203,El Chiky,30,3\\n', '181,3,agua,202,Snoop Dog,5,26\\n', '182,1,cafe,200,John Lennon,15,12\\n', '183,2,te,201,Donald Trump,20,21\\n', '184,4,leche,203,El Chiky,30,2\\n', '185,4,leche,203,El Chiky,30,35\\n', '186,4,leche,203,El Chiky,30,35\\n', '187,4,leche,203,El Chiky,30,14\\n', '188,1,cafe,200,John Lennon,15,6\\n', '189,1,cafe,200,John Lennon,15,18\\n', '19,3,agua,202,Snoop Dog,5,1\\n', '190,3,agua,202,Snoop Dog,5,27\\n', '191,1,cafe,200,John Lennon,15,18\\n', '192,2,te,201,Donald Trump,20,11\\n', '193,3,agua,202,Snoop Dog,5,7\\n', '194,2,te,201,Donald Trump,20,27\\n', '195,2,te,201,Donald Trump,20,0\\n', '196,3,agua,202,Snoop Dog,5,33\\n', '197,2,te,201,Donald Trump,20,23\\n', '198,1,cafe,200,John Lennon,15,33\\n', '199,2,te,201,Donald Trump,20,16\\n', '2,4,leche,203,El Chiky,30,36\\n', '20,2,te,201,Donald Trump,20,16\\n', '200,2,te,201,Donald Trump,20,38\\n', '201,4,leche,203,El Chiky,30,28\\n', '202,1,cafe,200,John Lennon,15,9\\n', '203,3,agua,202,Snoop Dog,5,19\\n', '204,4,leche,203,El Chiky,30,3\\n', '205,2,te,201,Donald Trump,20,12\\n', '206,2,te,201,Donald Trump,20,6\\n', '207,1,cafe,200,John Lennon,15,34\\n', '208,4,leche,203,El Chiky,30,2\\n', '209,2,te,201,Donald Trump,20,13\\n', '21,2,te,201,Donald Trump,20,35\\n', '210,2,te,201,Donald Trump,20,20\\n', '211,4,leche,203,El Chiky,30,0\\n', '212,2,te,201,Donald Trump,20,4\\n', '213,4,leche,203,El Chiky,30,0\\n', '214,3,agua,202,Snoop Dog,5,25\\n', '215,4,leche,203,El Chiky,30,26\\n', '216,3,agua,202,Snoop Dog,5,20\\n', '217,2,te,201,Donald Trump,20,34\\n', '218,2,te,201,Donald Trump,20,2\\n', '219,4,leche,203,El Chiky,30,10\\n', '22,1,cafe,200,John Lennon,15,6\\n', '220,2,te,201,Donald Trump,20,11\\n', '221,1,cafe,200,John Lennon,15,35\\n', '222,3,agua,202,Snoop Dog,5,19\\n', '223,2,te,201,Donald Trump,20,26\\n', '224,4,leche,203,El Chiky,30,17\\n', '225,1,cafe,200,John Lennon,15,6\\n', '226,1,cafe,200,John Lennon,15,20\\n', '227,4,leche,203,El Chiky,30,7\\n', '228,2,te,201,Donald Trump,20,21\\n', '229,4,leche,203,El Chiky,30,35\\n', '23,1,cafe,200,John Lennon,15,21\\n', '230,3,agua,202,Snoop Dog,5,7\\n', '231,3,agua,202,Snoop Dog,5,31\\n', '232,1,cafe,200,John Lennon,15,18\\n', '233,1,cafe,200,John Lennon,15,38\\n', '234,2,te,201,Donald Trump,20,15\\n', '235,3,agua,202,Snoop Dog,5,27\\n', '236,4,leche,203,El Chiky,30,22\\n', '237,3,agua,202,Snoop Dog,5,12\\n', '238,4,leche,203,El Chiky,30,5\\n', '239,3,agua,202,Snoop Dog,5,4\\n', '24,3,agua,202,Snoop Dog,5,35\\n', '240,1,cafe,200,John Lennon,15,24\\n', '241,1,cafe,200,John Lennon,15,15\\n', '242,2,te,201,Donald Trump,20,29\\n', '243,2,te,201,Donald Trump,20,12\\n', '244,3,agua,202,Snoop Dog,5,31\\n', '245,2,te,201,Donald Trump,20,34\\n', '246,2,te,201,Donald Trump,20,0\\n', '247,2,te,201,Donald Trump,20,22\\n', '248,2,te,201,Donald Trump,20,27\\n', '249,2,te,201,Donald Trump,20,28\\n', '25,2,te,201,Donald Trump,20,0\\n', '250,4,leche,203,El Chiky,30,21\\n', '251,1,cafe,200,John Lennon,15,26\\n', '252,2,te,201,Donald Trump,20,19\\n', '253,4,leche,203,El Chiky,30,36\\n', '254,3,agua,202,Snoop Dog,5,19\\n', '255,3,agua,202,Snoop Dog,5,13\\n', '256,3,agua,202,Snoop Dog,5,36\\n', '257,4,leche,203,El Chiky,30,23\\n', '258,2,te,201,Donald Trump,20,15\\n', '259,1,cafe,200,John Lennon,15,14\\n', '26,3,agua,202,Snoop Dog,5,29\\n', '260,4,leche,203,El Chiky,30,3\\n', '261,2,te,201,Donald Trump,20,38\\n', '262,2,te,201,Donald Trump,20,19\\n', '263,4,leche,203,El Chiky,30,16\\n', '264,3,agua,202,Snoop Dog,5,23\\n', '265,2,te,201,Donald Trump,20,15\\n', '266,3,agua,202,Snoop Dog,5,28\\n', '267,2,te,201,Donald Trump,20,21\\n', '268,1,cafe,200,John Lennon,15,12\\n', '269,1,cafe,200,John Lennon,15,19\\n', '27,2,te,201,Donald Trump,20,8\\n', '270,2,te,201,Donald Trump,20,22\\n', '271,2,te,201,Donald Trump,20,24\\n', '272,3,agua,202,Snoop Dog,5,34\\n', '273,1,cafe,200,John Lennon,15,35\\n', '274,4,leche,203,El Chiky,30,26\\n', '275,2,te,201,Donald Trump,20,7\\n', '276,1,cafe,200,John Lennon,15,36\\n', '277,2,te,201,Donald Trump,20,3\\n', '278,1,cafe,200,John Lennon,15,7\\n', '279,1,cafe,200,John Lennon,15,6\\n', '28,1,cafe,200,John Lennon,15,12\\n', '280,4,leche,203,El Chiky,30,25\\n', '281,3,agua,202,Snoop Dog,5,2\\n', '282,1,cafe,200,John Lennon,15,28\\n', '283,1,cafe,200,John Lennon,15,10\\n', '284,1,cafe,200,John Lennon,15,0\\n', '285,1,cafe,200,John Lennon,15,6\\n', '286,4,leche,203,El Chiky,30,3\\n', '287,4,leche,203,El Chiky,30,36\\n', '288,3,agua,202,Snoop Dog,5,35\\n', '289,2,te,201,Donald Trump,20,36\\n', '29,1,cafe,200,John Lennon,15,11\\n', '290,1,cafe,200,John Lennon,15,25\\n', '291,4,leche,203,El Chiky,30,0\\n', '292,2,te,201,Donald Trump,20,10\\n', '293,1,cafe,200,John Lennon,15,33\\n', '294,3,agua,202,Snoop Dog,5,24\\n', '295,2,te,201,Donald Trump,20,1\\n', '296,1,cafe,200,John Lennon,15,4\\n', '297,3,agua,202,Snoop Dog,5,4\\n', '298,2,te,201,Donald Trump,20,3\\n', '299,2,te,201,Donald Trump,20,12\\n', '3,4,leche,203,El Chiky,30,28\\n', '30,2,te,201,Donald Trump,20,25\\n', '300,1,cafe,200,John Lennon,15,30\\n', '301,3,agua,202,Snoop Dog,5,3\\n', '302,2,te,201,Donald Trump,20,4\\n', '303,4,leche,203,El Chiky,30,15\\n', '304,4,leche,203,El Chiky,30,1\\n', '305,2,te,201,Donald Trump,20,31\\n', '306,2,te,201,Donald Trump,20,0\\n', '307,4,leche,203,El Chiky,30,37\\n', '308,2,te,201,Donald Trump,20,18\\n', '309,2,te,201,Donald Trump,20,0\\n', '31,1,cafe,200,John Lennon,15,24\\n', '310,1,cafe,200,John Lennon,15,26\\n', '311,3,agua,202,Snoop Dog,5,34\\n', '312,3,agua,202,Snoop Dog,5,3\\n', '313,1,cafe,200,John Lennon,15,8\\n', '314,2,te,201,Donald Trump,20,0\\n', '315,4,leche,203,El Chiky,30,36\\n', '316,4,leche,203,El Chiky,30,11\\n', '317,2,te,201,Donald Trump,20,24\\n', '318,3,agua,202,Snoop Dog,5,26\\n', '319,1,cafe,200,John Lennon,15,21\\n', '32,4,leche,203,El Chiky,30,4\\n', '320,1,cafe,200,John Lennon,15,26\\n', '321,3,agua,202,Snoop Dog,5,5\\n', '322,1,cafe,200,John Lennon,15,27\\n', '323,3,agua,202,Snoop Dog,5,14\\n', '324,1,cafe,200,John Lennon,15,5\\n', '325,4,leche,203,El Chiky,30,9\\n', '326,2,te,201,Donald Trump,20,5\\n', '327,4,leche,203,El Chiky,30,31\\n', '328,3,agua,202,Snoop Dog,5,24\\n', '329,4,leche,203,El Chiky,30,31\\n', '33,3,agua,202,Snoop Dog,5,15\\n', '330,1,cafe,200,John Lennon,15,21\\n', '331,1,cafe,200,John Lennon,15,5\\n', '332,2,te,201,Donald Trump,20,33\\n', '333,1,cafe,200,John Lennon,15,21\\n', '334,4,leche,203,El Chiky,30,18\\n', '335,4,leche,203,El Chiky,30,22\\n', '336,3,agua,202,Snoop Dog,5,23\\n', '337,3,agua,202,Snoop Dog,5,18\\n', '338,3,agua,202,Snoop Dog,5,4\\n', '339,2,te,201,Donald Trump,20,9\\n', '34,3,agua,202,Snoop Dog,5,37\\n', '340,1,cafe,200,John Lennon,15,37\\n', '341,2,te,201,Donald Trump,20,10\\n', '342,2,te,201,Donald Trump,20,2\\n', '343,3,agua,202,Snoop Dog,5,34\\n', '344,2,te,201,Donald Trump,20,14\\n', '345,3,agua,202,Snoop Dog,5,25\\n', '346,4,leche,203,El Chiky,30,23\\n', '347,3,agua,202,Snoop Dog,5,2\\n', '348,4,leche,203,El Chiky,30,2\\n', '349,1,cafe,200,John Lennon,15,4\\n', '35,3,agua,202,Snoop Dog,5,29\\n', '350,2,te,201,Donald Trump,20,16\\n', '351,2,te,201,Donald Trump,20,5\\n', '352,3,agua,202,Snoop Dog,5,29\\n', '353,3,agua,202,Snoop Dog,5,7\\n', '354,1,cafe,200,John Lennon,15,9\\n', '355,3,agua,202,Snoop Dog,5,3\\n', '356,1,cafe,200,John Lennon,15,29\\n', '357,3,agua,202,Snoop Dog,5,22\\n', '358,4,leche,203,El Chiky,30,17\\n', '359,1,cafe,200,John Lennon,15,9\\n', '36,4,leche,203,El Chiky,30,38\\n', '360,4,leche,203,El Chiky,30,22\\n', '361,2,te,201,Donald Trump,20,12\\n', '362,3,agua,202,Snoop Dog,5,24\\n', '363,1,cafe,200,John Lennon,15,22\\n', '364,4,leche,203,El Chiky,30,31\\n', '365,2,te,201,Donald Trump,20,6\\n', '366,1,cafe,200,John Lennon,15,34\\n', '367,3,agua,202,Snoop Dog,5,21\\n', '368,1,cafe,200,John Lennon,15,9\\n', '369,1,cafe,200,John Lennon,15,10\\n', '37,3,agua,202,Snoop Dog,5,26\\n', '370,2,te,201,Donald Trump,20,24\\n', '371,1,cafe,200,John Lennon,15,6\\n', '372,3,agua,202,Snoop Dog,5,31\\n', '373,2,te,201,Donald Trump,20,34\\n', '374,2,te,201,Donald Trump,20,26\\n', '375,1,cafe,200,John Lennon,15,23\\n', '376,3,agua,202,Snoop Dog,5,28\\n', '377,2,te,201,Donald Trump,20,0\\n', '378,2,te,201,Donald Trump,20,7\\n', '379,2,te,201,Donald Trump,20,6\\n', '38,1,cafe,200,John Lennon,15,2\\n', '380,3,agua,202,Snoop Dog,5,10\\n', '381,1,cafe,200,John Lennon,15,25\\n', '382,2,te,201,Donald Trump,20,8\\n', '383,4,leche,203,El Chiky,30,14\\n', '384,1,cafe,200,John Lennon,15,16\\n', '385,3,agua,202,Snoop Dog,5,2\\n', '386,2,te,201,Donald Trump,20,29\\n', '387,2,te,201,Donald Trump,20,7\\n', '388,4,leche,203,El Chiky,30,10\\n', '389,4,leche,203,El Chiky,30,29\\n', '39,1,cafe,200,John Lennon,15,29\\n', '390,1,cafe,200,John Lennon,15,20\\n', '391,1,cafe,200,John Lennon,15,11\\n', '392,2,te,201,Donald Trump,20,1\\n', '393,4,leche,203,El Chiky,30,22\\n', '394,2,te,201,Donald Trump,20,23\\n', '395,4,leche,203,El Chiky,30,10\\n', '396,4,leche,203,El Chiky,30,7\\n', '397,4,leche,203,El Chiky,30,22\\n', '398,1,cafe,200,John Lennon,15,24\\n', '399,3,agua,202,Snoop Dog,5,25\\n', '4,1,cafe,200,John Lennon,15,0\\n', '40,4,leche,203,El Chiky,30,28\\n', '400,3,agua,202,Snoop Dog,5,36\\n', '401,3,agua,202,Snoop Dog,5,14\\n', '402,4,leche,203,El Chiky,30,16\\n', '403,3,agua,202,Snoop Dog,5,1\\n', '404,3,agua,202,Snoop Dog,5,4\\n', '405,2,te,201,Donald Trump,20,36\\n', '406,1,cafe,200,John Lennon,15,21\\n', '407,2,te,201,Donald Trump,20,17\\n', '408,2,te,201,Donald Trump,20,27\\n', '409,3,agua,202,Snoop Dog,5,9\\n', '41,3,agua,202,Snoop Dog,5,38\\n', '410,4,leche,203,El Chiky,30,34\\n', '411,2,te,201,Donald Trump,20,31\\n', '412,3,agua,202,Snoop Dog,5,10\\n', '413,1,cafe,200,John Lennon,15,6\\n', '414,1,cafe,200,John Lennon,15,21\\n', '415,4,leche,203,El Chiky,30,39\\n', '416,3,agua,202,Snoop Dog,5,19\\n', '417,4,leche,203,El Chiky,30,12\\n', '418,2,te,201,Donald Trump,20,26\\n', '419,2,te,201,Donald Trump,20,34\\n', '42,1,cafe,200,John Lennon,15,17\\n', '420,4,leche,203,El Chiky,30,13\\n', '421,1,cafe,200,John Lennon,15,36\\n', '422,2,te,201,Donald Trump,20,39\\n', '423,1,cafe,200,John Lennon,15,36\\n', '424,2,te,201,Donald Trump,20,30\\n', '425,2,te,201,Donald Trump,20,20\\n', '426,3,agua,202,Snoop Dog,5,3\\n', '427,2,te,201,Donald Trump,20,37\\n', '428,3,agua,202,Snoop Dog,5,1\\n', '429,4,leche,203,El Chiky,30,8\\n', '43,4,leche,203,El Chiky,30,20\\n', '430,4,leche,203,El Chiky,30,0\\n', '431,1,cafe,200,John Lennon,15,30\\n', '432,3,agua,202,Snoop Dog,5,31\\n', '433,3,agua,202,Snoop Dog,5,39\\n', '434,4,leche,203,El Chiky,30,32\\n', '435,4,leche,203,El Chiky,30,26\\n', '436,2,te,201,Donald Trump,20,5\\n', '437,2,te,201,Donald Trump,20,19\\n', '438,1,cafe,200,John Lennon,15,3\\n', '439,1,cafe,200,John Lennon,15,13\\n', '44,3,agua,202,Snoop Dog,5,11\\n', '440,1,cafe,200,John Lennon,15,8\\n', '441,3,agua,202,Snoop Dog,5,38\\n', '442,4,leche,203,El Chiky,30,31\\n', '443,1,cafe,200,John Lennon,15,11\\n', '444,3,agua,202,Snoop Dog,5,9\\n', '445,2,te,201,Donald Trump,20,25\\n', '446,2,te,201,Donald Trump,20,29\\n', '447,2,te,201,Donald Trump,20,24\\n', '448,1,cafe,200,John Lennon,15,7\\n', '449,4,leche,203,El Chiky,30,16\\n', '45,2,te,201,Donald Trump,20,39\\n', '450,4,leche,203,El Chiky,30,39\\n', '451,3,agua,202,Snoop Dog,5,30\\n', '452,2,te,201,Donald Trump,20,28\\n', '453,3,agua,202,Snoop Dog,5,28\\n', '454,4,leche,203,El Chiky,30,31\\n', '455,1,cafe,200,John Lennon,15,37\\n', '456,4,leche,203,El Chiky,30,20\\n', '457,4,leche,203,El Chiky,30,0\\n', '458,4,leche,203,El Chiky,30,29\\n', '459,3,agua,202,Snoop Dog,5,6\\n', '46,4,leche,203,El Chiky,30,27\\n', '460,1,cafe,200,John Lennon,15,9\\n', '461,2,te,201,Donald Trump,20,23\\n', '462,3,agua,202,Snoop Dog,5,12\\n', '463,3,agua,202,Snoop Dog,5,21\\n', '464,2,te,201,Donald Trump,20,14\\n', '465,3,agua,202,Snoop Dog,5,35\\n', '466,1,cafe,200,John Lennon,15,24\\n', '467,3,agua,202,Snoop Dog,5,39\\n', '468,1,cafe,200,John Lennon,15,13\\n', '469,4,leche,203,El Chiky,30,13\\n', '47,4,leche,203,El Chiky,30,10\\n', '470,3,agua,202,Snoop Dog,5,2\\n', '471,2,te,201,Donald Trump,20,18\\n', '472,1,cafe,200,John Lennon,15,3\\n', '473,2,te,201,Donald Trump,20,26\\n', '474,3,agua,202,Snoop Dog,5,8\\n', '475,2,te,201,Donald Trump,20,25\\n', '476,2,te,201,Donald Trump,20,21\\n', '477,1,cafe,200,John Lennon,15,2\\n', '478,1,cafe,200,John Lennon,15,33\\n', '479,3,agua,202,Snoop Dog,5,30\\n', '48,3,agua,202,Snoop Dog,5,36\\n', '480,1,cafe,200,John Lennon,15,38\\n', '481,1,cafe,200,John Lennon,15,31\\n', '482,2,te,201,Donald Trump,20,39\\n', '483,4,leche,203,El Chiky,30,12\\n', '484,3,agua,202,Snoop Dog,5,10\\n', '485,1,cafe,200,John Lennon,15,14\\n', '486,3,agua,202,Snoop Dog,5,37\\n', '487,3,agua,202,Snoop Dog,5,39\\n', '488,1,cafe,200,John Lennon,15,14\\n', '489,3,agua,202,Snoop Dog,5,28\\n', '49,4,leche,203,El Chiky,30,11\\n', '490,3,agua,202,Snoop Dog,5,37\\n', '491,3,agua,202,Snoop Dog,5,7\\n', '492,2,te,201,Donald Trump,20,3\\n', '493,3,agua,202,Snoop Dog,5,31\\n', '494,4,leche,203,El Chiky,30,31\\n', '495,4,leche,203,El Chiky,30,4\\n', '496,2,te,201,Donald Trump,20,20\\n', '497,2,te,201,Donald Trump,20,36\\n', '498,2,te,201,Donald Trump,20,34\\n', '499,1,cafe,200,John Lennon,15,24', '5,1,cafe,200,John Lennon,15,22\\n', '50,1,cafe,200,John Lennon,15,30\\n', '51,3,agua,202,Snoop Dog,5,2\\n', '52,3,agua,202,Snoop Dog,5,27\\n', '53,4,leche,203,El Chiky,30,17\\n', '54,3,agua,202,Snoop Dog,5,6\\n', '55,2,te,201,Donald Trump,20,4\\n', '56,1,cafe,200,John Lennon,15,1\\n', '57,2,te,201,Donald Trump,20,16\\n', '58,4,leche,203,El Chiky,30,26\\n', '59,4,leche,203,El Chiky,30,35\\n', '6,3,agua,202,Snoop Dog,5,14\\n', '60,2,te,201,Donald Trump,20,17\\n', '61,2,te,201,Donald Trump,20,0\\n', '62,3,agua,202,Snoop Dog,5,24\\n', '63,4,leche,203,El Chiky,30,16\\n', '64,3,agua,202,Snoop Dog,5,36\\n', '65,1,cafe,200,John Lennon,15,16\\n', '66,2,te,201,Donald Trump,20,39\\n', '67,4,leche,203,El Chiky,30,35\\n', '68,3,agua,202,Snoop Dog,5,12\\n', '69,3,agua,202,Snoop Dog,5,16\\n', '7,4,leche,203,El Chiky,30,34\\n', '70,4,leche,203,El Chiky,30,18\\n', '71,2,te,201,Donald Trump,20,16\\n', '72,3,agua,202,Snoop Dog,5,3\\n', '73,4,leche,203,El Chiky,30,15\\n', '74,4,leche,203,El Chiky,30,29\\n', '75,3,agua,202,Snoop Dog,5,19\\n', '76,3,agua,202,Snoop Dog,5,22\\n', '77,4,leche,203,El Chiky,30,22\\n', '78,2,te,201,Donald Trump,20,3\\n', '79,1,cafe,200,John Lennon,15,30\\n', '8,3,agua,202,Snoop Dog,5,27\\n', '80,4,leche,203,El Chiky,30,6\\n', '81,4,leche,203,El Chiky,30,6\\n', '82,4,leche,203,El Chiky,30,13\\n', '83,3,agua,202,Snoop Dog,5,0\\n', '84,1,cafe,200,John Lennon,15,29\\n', '85,1,cafe,200,John Lennon,15,26\\n', '86,4,leche,203,El Chiky,30,29\\n', '87,2,te,201,Donald Trump,20,3\\n', '88,3,agua,202,Snoop Dog,5,34\\n', '89,1,cafe,200,John Lennon,15,8\\n', '9,1,cafe,200,John Lennon,15,6\\n', '90,1,cafe,200,John Lennon,15,24\\n', '91,3,agua,202,Snoop Dog,5,7\\n', '92,1,cafe,200,John Lennon,15,35\\n', '93,3,agua,202,Snoop Dog,5,33\\n', '94,1,cafe,200,John Lennon,15,37\\n', '95,1,cafe,200,John Lennon,15,37\\n', '96,4,leche,203,El Chiky,30,35\\n', '97,3,agua,202,Snoop Dog,5,26\\n', '98,3,agua,202,Snoop Dog,5,33\\n', '99,3,agua,202,Snoop Dog,5,28\\n', 'id_transaccion,id_producto,nombre_producto,id_vendedor,nombre_vendedor,monto_transaccion,gastos\\n']\n"
     ]
    }
   ],
   "source": [
    "dict_patito = {}\n",
    "with open(r\"ventas.csv\") as file:\n",
    "    data = file.readlines()\n",
    "print(sorted(data))"
   ]
  },
  {
   "cell_type": "code",
   "execution_count": null,
   "metadata": {},
   "outputs": [],
   "source": []
  },
  {
   "cell_type": "code",
   "execution_count": null,
   "metadata": {},
   "outputs": [],
   "source": []
  },
  {
   "cell_type": "code",
   "execution_count": null,
   "metadata": {},
   "outputs": [],
   "source": []
  },
  {
   "cell_type": "code",
   "execution_count": null,
   "metadata": {},
   "outputs": [],
   "source": []
  },
  {
   "cell_type": "code",
   "execution_count": null,
   "metadata": {},
   "outputs": [],
   "source": []
  },
  {
   "cell_type": "code",
   "execution_count": null,
   "metadata": {},
   "outputs": [],
   "source": []
  },
  {
   "cell_type": "code",
   "execution_count": null,
   "metadata": {},
   "outputs": [],
   "source": []
  },
  {
   "cell_type": "code",
   "execution_count": null,
   "metadata": {},
   "outputs": [],
   "source": []
  },
  {
   "cell_type": "code",
   "execution_count": null,
   "metadata": {},
   "outputs": [],
   "source": []
  },
  {
   "cell_type": "code",
   "execution_count": null,
   "metadata": {},
   "outputs": [],
   "source": []
  },
  {
   "cell_type": "code",
   "execution_count": null,
   "metadata": {},
   "outputs": [],
   "source": [
    "\n",
    "    "
   ]
  },
  {
   "cell_type": "code",
   "execution_count": null,
   "metadata": {},
   "outputs": [],
   "source": []
  },
  {
   "cell_type": "code",
   "execution_count": null,
   "metadata": {},
   "outputs": [],
   "source": []
  },
  {
   "cell_type": "code",
   "execution_count": null,
   "metadata": {},
   "outputs": [],
   "source": []
  },
  {
   "cell_type": "code",
   "execution_count": null,
   "metadata": {},
   "outputs": [],
   "source": []
  }
 ],
 "metadata": {
  "kernelspec": {
   "display_name": "Python 3",
   "language": "python",
   "name": "python3"
  },
  "language_info": {
   "codemirror_mode": {
    "name": "ipython",
    "version": 3
   },
   "file_extension": ".py",
   "mimetype": "text/x-python",
   "name": "python",
   "nbconvert_exporter": "python",
   "pygments_lexer": "ipython3",
   "version": "3.7.0"
  }
 },
 "nbformat": 4,
 "nbformat_minor": 2
}
