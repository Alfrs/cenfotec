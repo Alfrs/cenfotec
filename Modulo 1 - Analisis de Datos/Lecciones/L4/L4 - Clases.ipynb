{
 "cells": [
  {
   "cell_type": "code",
   "execution_count": 26,
   "metadata": {},
   "outputs": [],
   "source": [
    "class Coordenada(object):\n",
    "    def __init__(self,x,y):\n",
    "        self.x = x\n",
    "        self.y = y\n",
    "    def distancia(self,otra):\n",
    "        x_diff = (self.x - otra.x)**2\n",
    "        y_diff = (self.y - otra.y)**2\n",
    "        return(x_diff+y_diff)**(0.5)\n",
    "    def __add__(self,otro):\n",
    "        nombre_bebe = self.nombre[:3]+otro.nombre[:3]\n",
    "        raza_bebe = self.raza[:3]+otro.raza[:3]\n",
    "        return Perro(nombre_bebe,raza_bebe,0)"
   ]
  },
  {
   "cell_type": "code",
   "execution_count": 11,
   "metadata": {},
   "outputs": [],
   "source": [
    "c1 = Coordenada(12,5)\n",
    "c2 = Coordenada(1,2)"
   ]
  },
  {
   "cell_type": "code",
   "execution_count": 12,
   "metadata": {},
   "outputs": [
    {
     "data": {
      "text/plain": [
       "11.40175425099138"
      ]
     },
     "execution_count": 12,
     "metadata": {},
     "output_type": "execute_result"
    }
   ],
   "source": [
    "c1.distancia(c2)"
   ]
  },
  {
   "cell_type": "markdown",
   "metadata": {},
   "source": [
    "# PERRO"
   ]
  },
  {
   "cell_type": "code",
   "execution_count": 45,
   "metadata": {},
   "outputs": [],
   "source": [
    "class Perro():\n",
    "    def __init__(self):\n",
    "        self.nombre = \"\"\n",
    "        self.raza = \"\"\n",
    "        self.edad = None\n",
    "    def __str__(self):\n",
    "        return \"Soy un {} de {} años y me llamo {}\".format(self.raza,self.edad,self.nombre)\n",
    "    def __add__(self,otro):\n",
    "        nombre_bebe = self.nombre[:3]+otro.nombre[:3]\n",
    "        raza_bebe = self.raza[:3]+otro.raza[:3]\n",
    "        return Perro(nombre_bebe,raza_bebe,0)\n",
    "    def setNombre(self,nombre):\n",
    "        self.nombre = nombre\n",
    "    def setEdad(self,edad):\n",
    "        self.edad = edad\n",
    "    def setRaza(self,raza):\n",
    "        if not self.raza == \"\":\n",
    "            self.raza = raza\n",
    "        else:\n",
    "            print(\"Ya {} tiene raza\".format(self.nombre))"
   ]
  },
  {
   "cell_type": "code",
   "execution_count": 46,
   "metadata": {},
   "outputs": [
    {
     "name": "stdout",
     "output_type": "stream",
     "text": [
      "Ya Firulais tiene raza\n"
     ]
    }
   ],
   "source": [
    "firulais = Perro()\n",
    "firulais.setNombre(\"Firulais\")\n",
    "firulais.setRaza(\"Doberman\")\n",
    "firulais.setEdad(5)"
   ]
  },
  {
   "cell_type": "code",
   "execution_count": 47,
   "metadata": {
    "scrolled": true
   },
   "outputs": [
    {
     "name": "stdout",
     "output_type": "stream",
     "text": [
      "Ya Pepe tiene raza\n"
     ]
    }
   ],
   "source": [
    "pepe = Perro()\n",
    "pepe.setNombre(\"Pepe\")\n",
    "pepe.setRaza(\"Pitbull\")\n",
    "pepe.setEdad(3)"
   ]
  },
  {
   "cell_type": "code",
   "execution_count": 35,
   "metadata": {},
   "outputs": [],
   "source": [
    "nuevo_perro = firulais + pepe"
   ]
  },
  {
   "cell_type": "code",
   "execution_count": 48,
   "metadata": {},
   "outputs": [
    {
     "name": "stdout",
     "output_type": "stream",
     "text": [
      "Soy un DobPit de 0 años y me llamo FirPep\n"
     ]
    }
   ],
   "source": [
    "print(nuevo_perro)"
   ]
  },
  {
   "cell_type": "code",
   "execution_count": 49,
   "metadata": {},
   "outputs": [
    {
     "name": "stdout",
     "output_type": "stream",
     "text": [
      "Soy un  de 5 años y me llamo Firulais\n"
     ]
    }
   ],
   "source": [
    "print(firulais)"
   ]
  },
  {
   "cell_type": "code",
   "execution_count": 50,
   "metadata": {},
   "outputs": [
    {
     "name": "stdout",
     "output_type": "stream",
     "text": [
      "Soy un  de 3 años y me llamo Pepe\n"
     ]
    }
   ],
   "source": [
    "print(pepe)"
   ]
  },
  {
   "cell_type": "markdown",
   "metadata": {},
   "source": [
    "# Reino Animal"
   ]
  },
  {
   "cell_type": "code",
   "execution_count": 51,
   "metadata": {},
   "outputs": [],
   "source": [
    "class Animal():\n",
    "    def __init__(self):\n",
    "        print(\"se creo un animal\")\n",
    "    def soy(self):\n",
    "        print(\"soy animal\")\n",
    "    def comer(self):\n",
    "        print(\"estoy comiendo\")"
   ]
  },
  {
   "cell_type": "code",
   "execution_count": 52,
   "metadata": {},
   "outputs": [],
   "source": [
    "class Perro(Animal):\n",
    "    def __init__(self):\n",
    "        Animal.__init__(self)\n",
    "        print(\"se creo un perro\")\n",
    "    "
   ]
  },
  {
   "cell_type": "code",
   "execution_count": 53,
   "metadata": {},
   "outputs": [
    {
     "name": "stdout",
     "output_type": "stream",
     "text": [
      "se creo un animal\n",
      "se creo un perro\n"
     ]
    }
   ],
   "source": []
  },
  {
   "cell_type": "code",
   "execution_count": null,
   "metadata": {},
   "outputs": [],
   "source": []
  },
  {
   "cell_type": "code",
   "execution_count": null,
   "metadata": {},
   "outputs": [],
   "source": []
  },
  {
   "cell_type": "code",
   "execution_count": null,
   "metadata": {},
   "outputs": [],
   "source": []
  },
  {
   "cell_type": "code",
   "execution_count": null,
   "metadata": {},
   "outputs": [],
   "source": []
  },
  {
   "cell_type": "code",
   "execution_count": null,
   "metadata": {},
   "outputs": [],
   "source": []
  },
  {
   "cell_type": "code",
   "execution_count": null,
   "metadata": {},
   "outputs": [],
   "source": []
  },
  {
   "cell_type": "code",
   "execution_count": null,
   "metadata": {},
   "outputs": [],
   "source": []
  },
  {
   "cell_type": "code",
   "execution_count": null,
   "metadata": {},
   "outputs": [],
   "source": []
  },
  {
   "cell_type": "code",
   "execution_count": null,
   "metadata": {},
   "outputs": [],
   "source": []
  },
  {
   "cell_type": "code",
   "execution_count": null,
   "metadata": {},
   "outputs": [],
   "source": []
  },
  {
   "cell_type": "code",
   "execution_count": null,
   "metadata": {},
   "outputs": [],
   "source": []
  }
 ],
 "metadata": {
  "kernelspec": {
   "display_name": "Python 3",
   "language": "python",
   "name": "python3"
  },
  "language_info": {
   "codemirror_mode": {
    "name": "ipython",
    "version": 3
   },
   "file_extension": ".py",
   "mimetype": "text/x-python",
   "name": "python",
   "nbconvert_exporter": "python",
   "pygments_lexer": "ipython3",
   "version": "3.7.0"
  }
 },
 "nbformat": 4,
 "nbformat_minor": 2
}
