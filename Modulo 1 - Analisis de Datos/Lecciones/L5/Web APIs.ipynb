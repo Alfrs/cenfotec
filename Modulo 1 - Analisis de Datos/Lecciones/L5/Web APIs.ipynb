{
 "cells": [
  {
   "cell_type": "markdown",
   "metadata": {
    "deletable": true,
    "editable": true
   },
   "source": [
    "para conectarnos a un API con Python vamos a utilizar el modulo `requests`, que nos permite hacer peticiones por medio de métodos en HTTP (los protocoles que se utilizán en la web). Estos son los cuatro métodos que existen:\n",
    "\n",
    "* GET: para sacar información de una fuente\n",
    "* POST: para enviar información a una fuente\n",
    "* PUT: para actualizar información en una fuente\n",
    "* DELETE: para eliminar información en una fuente"
   ]
  },
  {
   "cell_type": "markdown",
   "metadata": {
    "deletable": true,
    "editable": true
   },
   "source": [
    "### HTTP request:\n",
    "\n",
    "1. el request: esta compuesto por el método HTTP seguido por el url de la fuente\n",
    "2. el header: información adicional sobre el request, e.j: el tipo de encoding(UTF-8), el tipo de contenido (JSON,XML)\n",
    "3. el body: acá se pone la información requerida para modifacar la fuente [métodos POST y PUT] "
   ]
  },
  {
   "cell_type": "markdown",
   "metadata": {
    "deletable": true,
    "editable": true
   },
   "source": [
    "para esta clase vamos a utilizar este [API](https://swapi.co/documentation)."
   ]
  },
  {
   "cell_type": "code",
   "execution_count": 5,
   "metadata": {
    "collapsed": false,
    "deletable": true,
    "editable": true
   },
   "outputs": [
    {
     "name": "stdout",
     "output_type": "stream",
     "text": [
      "<Response [200]>\n"
     ]
    }
   ],
   "source": [
    "import requests\n",
    "response = requests.get('https://swapi.co/api/')\n",
    "print response"
   ]
  },
  {
   "cell_type": "code",
   "execution_count": 4,
   "metadata": {
    "collapsed": false,
    "deletable": true,
    "editable": true
   },
   "outputs": [
    {
     "name": "stdout",
     "output_type": "stream",
     "text": [
      "utf-8\n",
      "200\n",
      "0:00:01.877397\n",
      "https://swapi.co/api/?format=wookiee\n",
      "[]\n",
      "application/json; charset=utf-8\n"
     ]
    }
   ],
   "source": [
    "print response.encoding      # returns 'utf-8'\n",
    "print response.status_code   # returns 200\n",
    "print response.elapsed       # returns datetime.timedelta(0, 1, 666890)\n",
    "print response.url           # returns 'https://tutsplus.com/'\n",
    " \n",
    "print response.history      \n",
    "# returns [<Response [301]>, <Response [301]>]\n",
    " \n",
    "print response.headers['Content-Type']"
   ]
  },
  {
   "cell_type": "markdown",
   "metadata": {
    "deletable": true,
    "editable": true
   },
   "source": [
    "* encoding: el tipo de encoding que hay que utilizar al manipular response.text\n",
    "* status_code: el status del response\n",
    "    * 200: ok \n",
    "    * 301: server esta haciendo un redirect\n",
    "    * 401: no autenticado\n",
    "    * 400: bad request\n",
    "    * 403: forbidden \n",
    "    * 404: no existe\n",
    "    * [acá](https://developer.mozilla.org/en-US/docs/Web/HTTP/Status) hay más\n",
    "* elapsed: el tiempo que se tomo en mandar el request y recibir el response\n",
    "* url: la fuente \n",
    "* history: historial del proceso, redirects\n",
    "* headers['Content Type']: el tipo de contenido del response"
   ]
  },
  {
   "cell_type": "code",
   "execution_count": 13,
   "metadata": {
    "collapsed": false,
    "deletable": true,
    "editable": true
   },
   "outputs": [
    {
     "name": "stdout",
     "output_type": "stream",
     "text": [
      "{u'starships': u'https://swapi.co/api/starships/', u'people': u'https://swapi.co/api/people/', u'vehicles': u'https://swapi.co/api/vehicles/', u'planets': u'https://swapi.co/api/planets/', u'films': u'https://swapi.co/api/films/', u'species': u'https://swapi.co/api/species/'}\n"
     ]
    }
   ],
   "source": [
    "# print response.text\n",
    "# print response.content\n",
    "print response.json()"
   ]
  },
  {
   "cell_type": "code",
   "execution_count": 14,
   "metadata": {
    "collapsed": false,
    "deletable": true,
    "editable": true
   },
   "outputs": [
    {
     "name": "stdout",
     "output_type": "stream",
     "text": [
      "<type 'unicode'>\n",
      "<type 'str'>\n",
      "<type 'dict'>\n"
     ]
    }
   ],
   "source": [
    "print type(response.text)\n",
    "print type(response.content)\n",
    "print type(response.json())"
   ]
  },
  {
   "cell_type": "code",
   "execution_count": 15,
   "metadata": {
    "collapsed": false,
    "deletable": true,
    "editable": true
   },
   "outputs": [
    {
     "name": "stdout",
     "output_type": "stream",
     "text": [
      "None\n",
      "utf-8\n"
     ]
    }
   ],
   "source": [
    "print response.encoding\n",
    "response.encoding = 'utf-8'\n",
    "print response.encoding"
   ]
  },
  {
   "cell_type": "markdown",
   "metadata": {
    "deletable": true,
    "editable": true
   },
   "source": [
    "* ISO 8859-1 para characteres como `é` y `ü`"
   ]
  },
  {
   "cell_type": "code",
   "execution_count": 20,
   "metadata": {
    "collapsed": false,
    "deletable": true,
    "editable": true
   },
   "outputs": [
    {
     "name": "stdout",
     "output_type": "stream",
     "text": [
      "https://swapi.co/api/starships/\n"
     ]
    }
   ],
   "source": [
    "# print response.text['count']\n",
    "print response.json()['starships']"
   ]
  },
  {
   "cell_type": "markdown",
   "metadata": {
    "deletable": true,
    "editable": true
   },
   "source": [
    "* los unicode son un tipo de strings, no usan un tipo de encoding en particular.\n",
    "\n",
    "* [acá](https://www.b-list.org/weblog/2017/sep/05/how-python-does-unicode/) pueden leer más sobre los unicodes."
   ]
  },
  {
   "cell_type": "code",
   "execution_count": 21,
   "metadata": {
    "collapsed": false,
    "deletable": true,
    "editable": true
   },
   "outputs": [
    {
     "name": "stdout",
     "output_type": "stream",
     "text": [
      "{u'starships': u'https://swapi.co/api/starships/', u'people': u'https://swapi.co/api/people/', u'vehicles': u'https://swapi.co/api/vehicles/', u'planets': u'https://swapi.co/api/planets/', u'films': u'https://swapi.co/api/films/', u'species': u'https://swapi.co/api/species/'}\n"
     ]
    }
   ],
   "source": [
    "res = response.json()\n",
    "print res"
   ]
  },
  {
   "cell_type": "code",
   "execution_count": null,
   "metadata": {
    "collapsed": false,
    "deletable": true,
    "editable": true
   },
   "outputs": [],
   "source": [
    "print type(res)"
   ]
  },
  {
   "cell_type": "code",
   "execution_count": 22,
   "metadata": {
    "collapsed": false,
    "deletable": true,
    "editable": true
   },
   "outputs": [
    {
     "name": "stdout",
     "output_type": "stream",
     "text": [
      "starships: https://swapi.co/api/starships/\n",
      "people: https://swapi.co/api/people/\n",
      "vehicles: https://swapi.co/api/vehicles/\n",
      "planets: https://swapi.co/api/planets/\n",
      "films: https://swapi.co/api/films/\n",
      "species: https://swapi.co/api/species/\n"
     ]
    }
   ],
   "source": [
    "for key,value in res.items():\n",
    "    print key + ': ' + value"
   ]
  },
  {
   "cell_type": "markdown",
   "metadata": {
    "deletable": true,
    "editable": true
   },
   "source": [
    "* La [Documentación](https://swapi.co/documentation) de un API contiene las rutas y diferentes metodos que se pueden utilizar con el API.\n",
    "* La aplicación Postman es muy útil para testear requests. (ver schemas)"
   ]
  },
  {
   "cell_type": "code",
   "execution_count": null,
   "metadata": {
    "collapsed": false,
    "deletable": true,
    "editable": true
   },
   "outputs": [],
   "source": [
    "response = requests.get('https://swapi.co/ap/')\n",
    "res = response.json()\n",
    "# arreglar "
   ]
  },
  {
   "cell_type": "markdown",
   "metadata": {
    "deletable": true,
    "editable": true
   },
   "source": [
    "* [acá](http://docs.python-requests.org/en/latest/api/#exceptions) esta una lista de los exceptions del modulo requests."
   ]
  },
  {
   "cell_type": "code",
   "execution_count": null,
   "metadata": {
    "collapsed": false,
    "deletable": true,
    "editable": true
   },
   "outputs": [],
   "source": [
    "# pagination [ver en postman]\n",
    "res = requests.get(\"https://swapi.co/api/people/\").json()\n",
    "# con  un while loop"
   ]
  },
  {
   "cell_type": "markdown",
   "metadata": {
    "deletable": true,
    "editable": true
   },
   "source": [
    "## Ejercicio 1\n",
    "\n",
    "0. imprimir el nombre de todos los personajes\n",
    "1. Buscar una lista de todas las personas de genero masculino con pelo macho.\n",
    "2. Cual es el nombre de las dos starships de \"Luke Skywalker\"?\n",
    "3. Organizar una lista de todos las personajes que salen por pelicula.\n",
    "4. Una lista del color de piel de cada especie.\n",
    "5. Cuantos vehiculos/naves ha piloteado \"Chewbacca\" y que otros personajes han piloteado esos mismos vehiculos/naves?"
   ]
  },
  {
   "cell_type": "code",
   "execution_count": null,
   "metadata": {
    "collapsed": true,
    "deletable": true,
    "editable": true
   },
   "outputs": [],
   "source": []
  },
  {
   "cell_type": "code",
   "execution_count": 34,
   "metadata": {
    "collapsed": false,
    "deletable": true,
    "editable": true,
    "scrolled": true
   },
   "outputs": [
    {
     "name": "stdout",
     "output_type": "stream",
     "text": [
      "[u'Luke Skywalker', u'C-3PO', u'R2-D2', u'Darth Vader', u'Leia Organa', u'Owen Lars', u'Beru Whitesun lars', u'R5-D4', u'Biggs Darklighter', u'Obi-Wan Kenobi', u'Anakin Skywalker', u'Wilhuff Tarkin', u'Chewbacca', u'Han Solo', u'Greedo', u'Jabba Desilijic Tiure', u'Wedge Antilles', u'Jek Tono Porkins', u'Yoda', u'Palpatine', u'Boba Fett', u'IG-88', u'Bossk', u'Lando Calrissian', u'Lobot', u'Ackbar', u'Mon Mothma', u'Arvel Crynyd', u'Wicket Systri Warrick', u'Nien Nunb', u'Qui-Gon Jinn', u'Nute Gunray', u'Finis Valorum', u'Jar Jar Binks', u'Roos Tarpals', u'Rugor Nass', u'Ric Oli\\xe9', u'Watto', u'Sebulba', u'Quarsh Panaka', u'Shmi Skywalker', u'Darth Maul', u'Bib Fortuna', u'Ayla Secura', u'Dud Bolt', u'Gasgano', u'Ben Quadinaros', u'Mace Windu', u'Ki-Adi-Mundi', u'Kit Fisto', u'Eeth Koth', u'Adi Gallia', u'Saesee Tiin', u'Yarael Poof', u'Plo Koon', u'Mas Amedda', u'Gregar Typho', u'Cord\\xe9', u'Cliegg Lars', u'Poggle the Lesser', u'Luminara Unduli', u'Barriss Offee', u'Dorm\\xe9', u'Dooku', u'Bail Prestor Organa', u'Jango Fett', u'Zam Wesell', u'Dexter Jettster', u'Lama Su', u'Taun We', u'Jocasta Nu', u'Ratts Tyerell', u'R4-P17', u'Wat Tambor', u'San Hill', u'Shaak Ti', u'Grievous', u'Tarfful', u'Raymus Antilles', u'Sly Moore']\n"
     ]
    }
   ],
   "source": [
    "import requests\n",
    "res = requests.get('https://swapi.co/api/').json()\n",
    "page = requests.get(res['people']).json()\n",
    "# url_next_page = people['next']\n",
    "nombres = []\n",
    "# for persona in people['results']:\n",
    "#     nombres.append(persona['name'])\n",
    "# print nombres\n",
    "# response_next_page = requests.get(url_next_page).json()\n",
    "# print response_next_page\n",
    "\n",
    "while page['next'] != None:\n",
    "    url_next_page = page['next']\n",
    "    for persona in page['results']:\n",
    "        nombres.append(persona['name'])\n",
    "    page = requests.get(url_next_page).json()\n",
    "print nombres"
   ]
  }
 ],
 "metadata": {
  "kernelspec": {
   "display_name": "Python 2",
   "language": "python",
   "name": "python2"
  },
  "language_info": {
   "codemirror_mode": {
    "name": "ipython",
    "version": 2
   },
   "file_extension": ".py",
   "mimetype": "text/x-python",
   "name": "python",
   "nbconvert_exporter": "python",
   "pygments_lexer": "ipython2",
   "version": "2.7.11"
  }
 },
 "nbformat": 4,
 "nbformat_minor": 2
}
