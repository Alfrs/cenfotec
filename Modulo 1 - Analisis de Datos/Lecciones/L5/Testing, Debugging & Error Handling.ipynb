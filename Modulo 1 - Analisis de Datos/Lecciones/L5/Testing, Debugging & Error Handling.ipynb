{
 "cells": [
  {
   "cell_type": "markdown",
   "metadata": {
    "collapsed": true,
    "deletable": true,
    "editable": true
   },
   "source": [
    "# Testing\n",
    "\n",
    "* test-driven development: test first, code later\n",
    "* escribir un test program primero, y luego un programa que pase ese test program"
   ]
  },
  {
   "cell_type": "code",
   "execution_count": 4,
   "metadata": {
    "collapsed": false,
    "deletable": true,
    "editable": true
   },
   "outputs": [
    {
     "name": "stdout",
     "output_type": "stream",
     "text": [
      "test failed\n"
     ]
    }
   ],
   "source": [
    "altura = 4\n",
    "largo = 3\n",
    "respuesta_correcta = 12\n",
    "respuesta = area(altura,largo)\n",
    "if respuesta == respuesta_correcta:\n",
    "    print 'test passed'\n",
    "else:\n",
    "    print 'test failed'"
   ]
  },
  {
   "cell_type": "code",
   "execution_count": 6,
   "metadata": {
    "collapsed": true,
    "deletable": true,
    "editable": true
   },
   "outputs": [],
   "source": [
    "def area(h,w):\n",
    "    return h*w"
   ]
  },
  {
   "cell_type": "code",
   "execution_count": 7,
   "metadata": {
    "collapsed": false,
    "deletable": true,
    "editable": true
   },
   "outputs": [
    {
     "name": "stdout",
     "output_type": "stream",
     "text": [
      "test passed\n",
      "test passed\n",
      "test passed\n"
     ]
    }
   ],
   "source": [
    "test_cases = [(-2,4,-8),(-2,-4,8),(2,4,8)]\n",
    "for test in test_cases:\n",
    "    if test[2] == area(test[0],test[1]):\n",
    "        print 'test passed'\n",
    "    else:\n",
    "        print 'test failed'"
   ]
  },
  {
   "cell_type": "markdown",
   "metadata": {
    "deletable": true,
    "editable": true
   },
   "source": [
    "# Error Handling\n",
    "\n",
    "Syntax error vs. Exception error"
   ]
  },
  {
   "cell_type": "code",
   "execution_count": 9,
   "metadata": {
    "collapsed": false,
    "deletable": true,
    "editable": true
   },
   "outputs": [
    {
     "name": "stdout",
     "output_type": "stream",
     "text": [
      "2\n"
     ]
    }
   ],
   "source": [
    "# Syntax error\n",
    "print (4/2)"
   ]
  },
  {
   "cell_type": "code",
   "execution_count": 10,
   "metadata": {
    "collapsed": false,
    "deletable": true,
    "editable": true
   },
   "outputs": [
    {
     "ename": "ZeroDivisionError",
     "evalue": "integer division or modulo by zero",
     "output_type": "error",
     "traceback": [
      "\u001b[0;31m---------------------------------------------------------------------------\u001b[0m",
      "\u001b[0;31mZeroDivisionError\u001b[0m                         Traceback (most recent call last)",
      "\u001b[0;32m<ipython-input-10-e0d8387dbbfd>\u001b[0m in \u001b[0;36m<module>\u001b[0;34m()\u001b[0m\n\u001b[1;32m      1\u001b[0m \u001b[0;31m# Exception error\u001b[0m\u001b[0;34m\u001b[0m\u001b[0;34m\u001b[0m\u001b[0m\n\u001b[0;32m----> 2\u001b[0;31m \u001b[0;32mprint\u001b[0m \u001b[0;34m(\u001b[0m\u001b[0;36m4\u001b[0m\u001b[0;34m/\u001b[0m\u001b[0;36m0\u001b[0m\u001b[0;34m)\u001b[0m\u001b[0;34m\u001b[0m\u001b[0m\n\u001b[0m",
      "\u001b[0;31mZeroDivisionError\u001b[0m: integer division or modulo by zero"
     ]
    }
   ],
   "source": [
    "# Exception error\n",
    "print (4/0)"
   ]
  },
  {
   "cell_type": "markdown",
   "metadata": {
    "deletable": true,
    "editable": true
   },
   "source": [
    "Python ya tiene definidos ciertos Exception Errors:\n",
    "\n",
    "|Error|Causa|\n",
    "|-|-|\n",
    "|AssertionError|Raised when assert statement fails.|\n",
    "|AttributeError|Raised when attribute assignment or reference fails.|\n",
    "|EOFError|Raised when the input() functions hits end-of-file condition.|\n",
    "|FloatingPointError|Raised when a floating point operation fails.|\n",
    "|GeneratorExit|Raise when a generator's close() method is called.|\n",
    "|ImportError|Raised when the imported module is not found.|\n",
    "|IndexError|Raised when index of a sequence is out of range.|\n",
    "|KeyError|Raised when a key is not found in a dictionary.|\n",
    "|KeyboardInterrupt|Raised when the user hits interrupt key (Ctrl+c or delete).|\n",
    "|MemoryError|Raised when an operation runs out of memory.|\n",
    "|NameError|Raised when a variable is not found in local or global scope.|\n",
    "|NotImplementedError|Raised by abstract methods.|\n",
    "|OSError|Raised when system operation causes system related error.|\n",
    "|OverflowError|Raised when result of an arithmetic operation is too large to be represented.|\n",
    "|ReferenceError|Raised when a weak reference proxy is used to access a garbage collected referent.|\n",
    "|RuntimeError|Raised when an error does not fall under any other category.|\n",
    "|StopIteration|Raised by next() function to indicate that there is no further item to be returned by iterator.|\n",
    "|SyntaxError|Raised by parser when syntax error is encountered.|\n",
    "|IndentationError|Raised when there is incorrect indentation.|\n",
    "|TabError|Raised when indentation consists of inconsistent tabs and spaces.|\n",
    "|SystemError|Raised when interpreter detects internal error|\n",
    "|SystemExit|Raised by sys.exit() function.|\n",
    "|TypeError|Raised when a function or operation is applied to an object of incorrect type.|\n",
    "|UnboundLocalError|Raised when a reference is made to a local variable in a function or method, but no value has been bound to that variable.|\n",
    "|UnicodeError|Raised when a Unicode-related encoding or decoding error occurs.|\n",
    "|UnicodeEncodeError|Raised when a Unicode-related error occurs during encoding.|\n",
    "|UnicodeDecodeError|Raised when a Unicode-related error occurs during decoding.|\n",
    "|UnicodeTranslateError|Raised when a Unicode-related error occurs during translating.|\n",
    "|ValueError|Raised when a function gets argument of correct type but improper value.|\n",
    "|ZeroDivisionError|Raised when second operand of division or modulo operation is zero.|"
   ]
  },
  {
   "cell_type": "markdown",
   "metadata": {
    "deletable": true,
    "editable": true
   },
   "source": [
    "pero tambien Python tiene la opción de dejarnos definir nuestros propios errores\n",
    "\n",
    "![alt_text](https://files.realpython.com/media/raise.3931e8819e08.png)\n",
    "![alt_text](https://files.realpython.com/media/assert.f6d344f0c0b4.png)"
   ]
  },
  {
   "cell_type": "code",
   "execution_count": 11,
   "metadata": {
    "collapsed": true,
    "deletable": true,
    "editable": true
   },
   "outputs": [],
   "source": [
    "def division(n,d):\n",
    "    return n/d"
   ]
  },
  {
   "cell_type": "code",
   "execution_count": 12,
   "metadata": {
    "collapsed": false,
    "deletable": true,
    "editable": true
   },
   "outputs": [
    {
     "ename": "ZeroDivisionError",
     "evalue": "integer division or modulo by zero",
     "output_type": "error",
     "traceback": [
      "\u001b[0;31m---------------------------------------------------------------------------\u001b[0m",
      "\u001b[0;31mZeroDivisionError\u001b[0m                         Traceback (most recent call last)",
      "\u001b[0;32m<ipython-input-12-dddadd22605e>\u001b[0m in \u001b[0;36m<module>\u001b[0;34m()\u001b[0m\n\u001b[0;32m----> 1\u001b[0;31m \u001b[0mdivision\u001b[0m\u001b[0;34m(\u001b[0m\u001b[0;36m4\u001b[0m\u001b[0;34m,\u001b[0m\u001b[0;36m0\u001b[0m\u001b[0;34m)\u001b[0m\u001b[0;34m\u001b[0m\u001b[0m\n\u001b[0m",
      "\u001b[0;32m<ipython-input-11-faade5d7371e>\u001b[0m in \u001b[0;36mdivision\u001b[0;34m(n, d)\u001b[0m\n\u001b[1;32m      1\u001b[0m \u001b[0;32mdef\u001b[0m \u001b[0mdivision\u001b[0m\u001b[0;34m(\u001b[0m\u001b[0mn\u001b[0m\u001b[0;34m,\u001b[0m\u001b[0md\u001b[0m\u001b[0;34m)\u001b[0m\u001b[0;34m:\u001b[0m\u001b[0;34m\u001b[0m\u001b[0m\n\u001b[0;32m----> 2\u001b[0;31m     \u001b[0;32mreturn\u001b[0m \u001b[0mn\u001b[0m\u001b[0;34m/\u001b[0m\u001b[0md\u001b[0m\u001b[0;34m\u001b[0m\u001b[0m\n\u001b[0m",
      "\u001b[0;31mZeroDivisionError\u001b[0m: integer division or modulo by zero"
     ]
    }
   ],
   "source": [
    "division(4,0)"
   ]
  },
  {
   "cell_type": "code",
   "execution_count": 13,
   "metadata": {
    "collapsed": false,
    "deletable": true,
    "editable": true
   },
   "outputs": [],
   "source": [
    "def division(n,d):\n",
    "    if d == 0:\n",
    "        raise Exception(\"El divisor NO puede ser 0\")\n",
    "    else:\n",
    "        return n/d"
   ]
  },
  {
   "cell_type": "code",
   "execution_count": 14,
   "metadata": {
    "collapsed": false,
    "deletable": true,
    "editable": true
   },
   "outputs": [
    {
     "ename": "Exception",
     "evalue": "El divisor NO puede ser 0",
     "output_type": "error",
     "traceback": [
      "\u001b[0;31m---------------------------------------------------------------------------\u001b[0m",
      "\u001b[0;31mException\u001b[0m                                 Traceback (most recent call last)",
      "\u001b[0;32m<ipython-input-14-dddadd22605e>\u001b[0m in \u001b[0;36m<module>\u001b[0;34m()\u001b[0m\n\u001b[0;32m----> 1\u001b[0;31m \u001b[0mdivision\u001b[0m\u001b[0;34m(\u001b[0m\u001b[0;36m4\u001b[0m\u001b[0;34m,\u001b[0m\u001b[0;36m0\u001b[0m\u001b[0;34m)\u001b[0m\u001b[0;34m\u001b[0m\u001b[0m\n\u001b[0m",
      "\u001b[0;32m<ipython-input-13-a0b52db11deb>\u001b[0m in \u001b[0;36mdivision\u001b[0;34m(n, d)\u001b[0m\n\u001b[1;32m      1\u001b[0m \u001b[0;32mdef\u001b[0m \u001b[0mdivision\u001b[0m\u001b[0;34m(\u001b[0m\u001b[0mn\u001b[0m\u001b[0;34m,\u001b[0m\u001b[0md\u001b[0m\u001b[0;34m)\u001b[0m\u001b[0;34m:\u001b[0m\u001b[0;34m\u001b[0m\u001b[0m\n\u001b[1;32m      2\u001b[0m     \u001b[0;32mif\u001b[0m \u001b[0md\u001b[0m \u001b[0;34m==\u001b[0m \u001b[0;36m0\u001b[0m\u001b[0;34m:\u001b[0m\u001b[0;34m\u001b[0m\u001b[0m\n\u001b[0;32m----> 3\u001b[0;31m         \u001b[0;32mraise\u001b[0m \u001b[0mException\u001b[0m\u001b[0;34m(\u001b[0m\u001b[0;34m\"El divisor NO puede ser 0\"\u001b[0m\u001b[0;34m)\u001b[0m\u001b[0;34m\u001b[0m\u001b[0m\n\u001b[0m\u001b[1;32m      4\u001b[0m     \u001b[0;32melse\u001b[0m\u001b[0;34m:\u001b[0m\u001b[0;34m\u001b[0m\u001b[0m\n\u001b[1;32m      5\u001b[0m         \u001b[0;32mreturn\u001b[0m \u001b[0mn\u001b[0m\u001b[0;34m/\u001b[0m\u001b[0md\u001b[0m\u001b[0;34m\u001b[0m\u001b[0m\n",
      "\u001b[0;31mException\u001b[0m: El divisor NO puede ser 0"
     ]
    }
   ],
   "source": [
    "division(4,0)"
   ]
  },
  {
   "cell_type": "code",
   "execution_count": 15,
   "metadata": {
    "collapsed": false,
    "deletable": true,
    "editable": true
   },
   "outputs": [],
   "source": [
    "def division(n,d):\n",
    "    assert d != 0, 'El divisor es 0, no se puede dividir'\n",
    "    return n/d"
   ]
  },
  {
   "cell_type": "code",
   "execution_count": 16,
   "metadata": {
    "collapsed": false,
    "deletable": true,
    "editable": true
   },
   "outputs": [
    {
     "ename": "AssertionError",
     "evalue": "El divisor es 0, no se puede dividir",
     "output_type": "error",
     "traceback": [
      "\u001b[0;31m---------------------------------------------------------------------------\u001b[0m",
      "\u001b[0;31mAssertionError\u001b[0m                            Traceback (most recent call last)",
      "\u001b[0;32m<ipython-input-16-dddadd22605e>\u001b[0m in \u001b[0;36m<module>\u001b[0;34m()\u001b[0m\n\u001b[0;32m----> 1\u001b[0;31m \u001b[0mdivision\u001b[0m\u001b[0;34m(\u001b[0m\u001b[0;36m4\u001b[0m\u001b[0;34m,\u001b[0m\u001b[0;36m0\u001b[0m\u001b[0;34m)\u001b[0m\u001b[0;34m\u001b[0m\u001b[0m\n\u001b[0m",
      "\u001b[0;32m<ipython-input-15-356b74f4ecbf>\u001b[0m in \u001b[0;36mdivision\u001b[0;34m(n, d)\u001b[0m\n\u001b[1;32m      1\u001b[0m \u001b[0;32mdef\u001b[0m \u001b[0mdivision\u001b[0m\u001b[0;34m(\u001b[0m\u001b[0mn\u001b[0m\u001b[0;34m,\u001b[0m\u001b[0md\u001b[0m\u001b[0;34m)\u001b[0m\u001b[0;34m:\u001b[0m\u001b[0;34m\u001b[0m\u001b[0m\n\u001b[0;32m----> 2\u001b[0;31m     \u001b[0;32massert\u001b[0m \u001b[0md\u001b[0m \u001b[0;34m!=\u001b[0m \u001b[0;36m0\u001b[0m\u001b[0;34m,\u001b[0m \u001b[0;34m'El divisor es 0, no se puede dividir'\u001b[0m\u001b[0;34m\u001b[0m\u001b[0m\n\u001b[0m\u001b[1;32m      3\u001b[0m     \u001b[0;32mreturn\u001b[0m \u001b[0mn\u001b[0m\u001b[0;34m/\u001b[0m\u001b[0md\u001b[0m\u001b[0;34m\u001b[0m\u001b[0m\n",
      "\u001b[0;31mAssertionError\u001b[0m: El divisor es 0, no se puede dividir"
     ]
    }
   ],
   "source": [
    "division(4,0)"
   ]
  },
  {
   "cell_type": "markdown",
   "metadata": {
    "deletable": true,
    "editable": true
   },
   "source": [
    "* La estructura de una declaración `assert` es: `assert` expresion , mensaje(opcional)\n",
    "* Un `AssertionError` solamente ocurre cuando la expresion de `assert` falla\n",
    "\n",
    "\n",
    "\n",
    "* La estructura de una declaración `raise` es: `raise` Exception(mensaje)\n",
    "* Hay que utilizar una declaración condicional antes de utilizar una declaración de `raise`"
   ]
  },
  {
   "cell_type": "code",
   "execution_count": 17,
   "metadata": {
    "collapsed": true,
    "deletable": true,
    "editable": true
   },
   "outputs": [],
   "source": [
    "def division(n,d):\n",
    "    return n/d"
   ]
  },
  {
   "cell_type": "code",
   "execution_count": 18,
   "metadata": {
    "collapsed": false,
    "deletable": true,
    "editable": true
   },
   "outputs": [
    {
     "ename": "ZeroDivisionError",
     "evalue": "integer division or modulo by zero",
     "output_type": "error",
     "traceback": [
      "\u001b[0;31m---------------------------------------------------------------------------\u001b[0m",
      "\u001b[0;31mZeroDivisionError\u001b[0m                         Traceback (most recent call last)",
      "\u001b[0;32m<ipython-input-18-dddadd22605e>\u001b[0m in \u001b[0;36m<module>\u001b[0;34m()\u001b[0m\n\u001b[0;32m----> 1\u001b[0;31m \u001b[0mdivision\u001b[0m\u001b[0;34m(\u001b[0m\u001b[0;36m4\u001b[0m\u001b[0;34m,\u001b[0m\u001b[0;36m0\u001b[0m\u001b[0;34m)\u001b[0m\u001b[0;34m\u001b[0m\u001b[0m\n\u001b[0m",
      "\u001b[0;32m<ipython-input-17-faade5d7371e>\u001b[0m in \u001b[0;36mdivision\u001b[0;34m(n, d)\u001b[0m\n\u001b[1;32m      1\u001b[0m \u001b[0;32mdef\u001b[0m \u001b[0mdivision\u001b[0m\u001b[0;34m(\u001b[0m\u001b[0mn\u001b[0m\u001b[0;34m,\u001b[0m\u001b[0md\u001b[0m\u001b[0;34m)\u001b[0m\u001b[0;34m:\u001b[0m\u001b[0;34m\u001b[0m\u001b[0m\n\u001b[0;32m----> 2\u001b[0;31m     \u001b[0;32mreturn\u001b[0m \u001b[0mn\u001b[0m\u001b[0;34m/\u001b[0m\u001b[0md\u001b[0m\u001b[0;34m\u001b[0m\u001b[0m\n\u001b[0m",
      "\u001b[0;31mZeroDivisionError\u001b[0m: integer division or modulo by zero"
     ]
    }
   ],
   "source": [
    "division(4,0)"
   ]
  },
  {
   "cell_type": "code",
   "execution_count": 24,
   "metadata": {
    "collapsed": true,
    "deletable": true,
    "editable": true
   },
   "outputs": [],
   "source": [
    "def division(n,d):\n",
    "    try:\n",
    "        division = n/d\n",
    "    except ZeroDivisionError:\n",
    "        division = 0\n",
    "    return division"
   ]
  },
  {
   "cell_type": "code",
   "execution_count": 25,
   "metadata": {
    "collapsed": false,
    "deletable": true,
    "editable": true
   },
   "outputs": [
    {
     "data": {
      "text/plain": [
       "0"
      ]
     },
     "execution_count": 25,
     "metadata": {},
     "output_type": "execute_result"
    }
   ],
   "source": [
    "division(4,0)"
   ]
  },
  {
   "cell_type": "markdown",
   "metadata": {
    "deletable": true,
    "editable": true
   },
   "source": [
    "![alt_text](https://files.realpython.com/media/try_except.c94eabed2c59.png)"
   ]
  },
  {
   "cell_type": "code",
   "execution_count": 27,
   "metadata": {
    "collapsed": false,
    "deletable": true,
    "editable": true
   },
   "outputs": [
    {
     "name": "stdout",
     "output_type": "stream",
     "text": [
      "-4\n"
     ]
    }
   ],
   "source": [
    "def division(n,d):\n",
    "    assert d != 0, 'El divisor es 0, no se puede dividir'\n",
    "    return n/d\n",
    "\n",
    "try:\n",
    "    print division(-4,1)\n",
    "except AssertionError:\n",
    "    print 'No se puede dividir por 0'"
   ]
  },
  {
   "cell_type": "code",
   "execution_count": 29,
   "metadata": {
    "collapsed": false,
    "deletable": true,
    "editable": true
   },
   "outputs": [
    {
     "name": "stdout",
     "output_type": "stream",
     "text": [
      "a\n"
     ]
    }
   ],
   "source": [
    "def division(n,d):\n",
    "    assert d != 0, 'El divisor es 0, no se puede dividir'\n",
    "    return n/d\n",
    "\n",
    "try:\n",
    "    print division(4,0)\n",
    "except Exception:\n",
    "    print 'a'"
   ]
  },
  {
   "cell_type": "code",
   "execution_count": 33,
   "metadata": {
    "collapsed": false,
    "deletable": true,
    "editable": true
   },
   "outputs": [
    {
     "name": "stdout",
     "output_type": "stream",
     "text": [
      "a\n",
      "b\n",
      "4\n",
      "---\n",
      "error\n",
      "---\n",
      "error\n"
     ]
    }
   ],
   "source": [
    "def division(n,d):\n",
    "    assert n > 0 and d != 0, 'No se puede dividir numeros negativos'\n",
    "    print 'a'\n",
    "    result = n/d\n",
    "    print 'b'\n",
    "    return result\n",
    "\n",
    "try:\n",
    "    print division(4,1)\n",
    "except:\n",
    "    print 'error'\n",
    "    \n",
    "print '---'\n",
    "\n",
    "try:\n",
    "    print division(-4,0)\n",
    "except:\n",
    "    print 'error'\n",
    "    \n",
    "print '---'  \n",
    "\n",
    "try:\n",
    "    print division(4,0)\n",
    "except:\n",
    "    print 'error'"
   ]
  },
  {
   "cell_type": "code",
   "execution_count": null,
   "metadata": {
    "collapsed": false,
    "deletable": true,
    "editable": true
   },
   "outputs": [],
   "source": [
    "def division(n,d):\n",
    "    assert n > 0, 'No se puede dividir numeros negativos'\n",
    "    return n/d\n",
    "\n",
    "try:\n",
    "    print division(4,1)\n",
    "except AssertionError as e:\n",
    "    print str(e)\n",
    "except ZeroDivisionError as e:\n",
    "    print str(e)\n",
    "except:\n",
    "    print 'eror que no se'\n",
    "    \n",
    "print '---' \n",
    "\n",
    "try:\n",
    "    print division(-4,0)\n",
    "except AssertionError as e:\n",
    "    print str(e)\n",
    "except ZeroDivisionError as e:\n",
    "    print str(e)\n",
    "    \n",
    "print '---' \n",
    "\n",
    "try:\n",
    "    print division(4,0)\n",
    "except AssertionError as e:\n",
    "    print str(e)\n",
    "except ZeroDivisionError as e:\n",
    "    print str(e)"
   ]
  },
  {
   "cell_type": "markdown",
   "metadata": {
    "deletable": true,
    "editable": true
   },
   "source": [
    "existen dos declaraciones más que se pueden utilizar:\n",
    "\n",
    "\n",
    "![alt_text](https://files.realpython.com/media/try_except_else_finally.a7fac6c36c55.png)"
   ]
  },
  {
   "cell_type": "code",
   "execution_count": 35,
   "metadata": {
    "collapsed": false,
    "deletable": true,
    "editable": true
   },
   "outputs": [
    {
     "name": "stdout",
     "output_type": "stream",
     "text": [
      "4\n",
      "12\n",
      "terminamos de dividir\n",
      "---\n",
      "No se puede dividir numeros negativos\n",
      "terminamos de dividir\n",
      "---\n",
      "integer division or modulo by zero\n",
      "terminamos de dividir\n"
     ]
    }
   ],
   "source": [
    "# dividir y return * 3\n",
    "def division(n,d):\n",
    "    assert n > 0, 'No se puede dividir numeros negativos'\n",
    "    return n/d\n",
    "\n",
    "try:\n",
    "    div = division(4,1)\n",
    "    print div\n",
    "except AssertionError as e:\n",
    "    print str(e)\n",
    "except ZeroDivisionError as e:\n",
    "    print str(e)\n",
    "else:\n",
    "    print str(div*3)\n",
    "finally:\n",
    "    print 'terminamos de dividir'\n",
    "    \n",
    "print '---' \n",
    "\n",
    "try:\n",
    "    print division(-4,0)\n",
    "except AssertionError as e:\n",
    "    print str(e)\n",
    "except ZeroDivisionError as e:\n",
    "    print str(e)\n",
    "else:\n",
    "    print str(div*3)\n",
    "finally:\n",
    "    print 'terminamos de dividir'\n",
    "    \n",
    "print '---' \n",
    "\n",
    "try:\n",
    "    print division(4,0)\n",
    "except AssertionError as e:\n",
    "    print str(e)\n",
    "except ZeroDivisionError as e:\n",
    "    print str(e)\n",
    "else:\n",
    "    print str(div*3)\n",
    "finally:\n",
    "    print 'terminamos de dividir'"
   ]
  }
 ],
 "metadata": {
  "kernelspec": {
   "display_name": "Python 2",
   "language": "python",
   "name": "python2"
  },
  "language_info": {
   "codemirror_mode": {
    "name": "ipython",
    "version": 2
   },
   "file_extension": ".py",
   "mimetype": "text/x-python",
   "name": "python",
   "nbconvert_exporter": "python",
   "pygments_lexer": "ipython2",
   "version": "2.7.11"
  }
 },
 "nbformat": 4,
 "nbformat_minor": 2
}
