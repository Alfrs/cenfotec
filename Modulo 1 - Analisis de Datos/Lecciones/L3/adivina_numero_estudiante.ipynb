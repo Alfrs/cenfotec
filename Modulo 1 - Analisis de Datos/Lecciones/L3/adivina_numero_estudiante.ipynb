{
 "cells": [
  {
   "cell_type": "markdown",
   "metadata": {},
   "source": [
    "# Vamos a Programar un juego"
   ]
  },
  {
   "cell_type": "markdown",
   "metadata": {},
   "source": [
    "**Instrucciones:**\n",
    "\n",
    "Crear un programa que selecciona un número del 1 al 100 y le pide al jugador que adivine el número. \n",
    "\n",
    "Reglas del juego:\n",
    "    1. Si el jugador ingresa un número superior a 100 o menor a 1, se debe imprimr una advertencia\n",
    "    2. Si en el primer turno el jugador adivina y está a 10 numeros de distancia de la respuesta debe indicarle al jugador que está cerca. Sino debe indicarle que está lejos.\n",
    "    3. Si el jugador adivina y se acerca al número debe indicarse \"te estas acercando\" de lo contrario \"te estas alejando\"\n",
    "    4. Si el jugador adivina el número se le debe indicar que acertó y se le debe decir en cuántos turnos logró el resultado.\n",
    "    5. El juego debe iniciar con una introducción al juego y con las instrucciones"
   ]
  },
  {
   "cell_type": "markdown",
   "metadata": {},
   "source": [
    "**Pasos:**\n",
    "    1. Importar randint\n",
    "    2. Sistema escoge un numero y lo asigna a una variable\n",
    "    3. Crear variable de # de intentos\n",
    "    4. Pedir prediccion\n",
    "    5. Validacion de requisitos de numero\n",
    "    6. Revisar si adivino\n",
    "    7. Repetir hasta que adivine\n",
    "    8. Guardar predicciones anteriores para saber si esta cerca o lejos"
   ]
  },
  {
   "cell_type": "code",
   "execution_count": 1,
   "metadata": {},
   "outputs": [
    {
     "name": "stdout",
     "output_type": "stream",
     "text": [
      "Bienvenido al juego\n",
      "Voy a pensar en un numero del 1 al 100, y vas a adivinarlo\n"
     ]
    }
   ],
   "source": [
    "from random import randint\n",
    "print(r\"Bienvenido al juego\")\n",
    "print(r\"Voy a pensar en un numero del 1 al 100, y vas a adivinarlo\")"
   ]
  },
  {
   "cell_type": "code",
   "execution_count": 5,
   "metadata": {},
   "outputs": [
    {
     "name": "stdout",
     "output_type": "stream",
     "text": [
      "Introduzca un numero: 90\n",
      "Que va, muy lejos\n",
      "Introduzca un numero: 35\n",
      "Te estas acercando!\n",
      "Introduzca un numero: 10\n",
      "Te estas acercando!\n",
      "Introduzca un numero: 2\n",
      "Te estas alejando :(\n",
      "Introduzca un numero: 6\n",
      "Te estas acercando!\n",
      "Introduzca un numero: 8\n",
      "Te estas acercando!\n",
      "Introduzca un numero: 9\n",
      "Te estas acercando!\n",
      "Introduzca un numero: 11\n",
      "Te estas acercando!\n",
      "Introduzca un numero: 12\n",
      "Felicidades! Has adivinado que el numero era 12! Solo tomo 9 intentos\n"
     ]
    }
   ],
   "source": [
    "system_num = randint(1,100)\n",
    "tries_num = 0\n",
    "check_num = 0\n",
    "prev_pred_num = None\n",
    "\n",
    "while True:\n",
    "    user_num = int(input(r\"Introduzca un numero: \"))\n",
    "    tries_num += 1\n",
    "    \n",
    "    if user_num > 100 or user_num < 1:\n",
    "        print(\"Debes introducir un numero entre 1 y 100\")\n",
    "        continue\n",
    "    if user_num == system_num:\n",
    "        print(r\"Felicidades! Has adivinado que el numero era {}! Solo tomo {} intentos\".format(system_num,tries_num))\n",
    "        break\n",
    "    if prev_pred_num:\n",
    "        if abs(system_num - user_num) < abs(system_num - prev_pred_num):\n",
    "            print(r\"Te estas acercando!\")\n",
    "            prev_pred_num = user_num\n",
    "        else:\n",
    "            print(r\"Te estas alejando :(\")\n",
    "            prev_pred_num = user_num\n",
    "    else:\n",
    "        if abs(system_num - user_num) <= 10:\n",
    "            print(\"Uy! En el poste, casi casi\")\n",
    "            prev_pred_num = user_num\n",
    "        else:\n",
    "            print(\"Que va, muy lejos\")\n",
    "            prev_pred_num = user_num\n",
    "    \n",
    "    "
   ]
  },
  {
   "cell_type": "code",
   "execution_count": null,
   "metadata": {},
   "outputs": [],
   "source": []
  }
 ],
 "metadata": {
  "kernelspec": {
   "display_name": "Python 3",
   "language": "python",
   "name": "python3"
  },
  "language_info": {
   "codemirror_mode": {
    "name": "ipython",
    "version": 3
   },
   "file_extension": ".py",
   "mimetype": "text/x-python",
   "name": "python",
   "nbconvert_exporter": "python",
   "pygments_lexer": "ipython3",
   "version": "3.7.0"
  }
 },
 "nbformat": 4,
 "nbformat_minor": 2
}
