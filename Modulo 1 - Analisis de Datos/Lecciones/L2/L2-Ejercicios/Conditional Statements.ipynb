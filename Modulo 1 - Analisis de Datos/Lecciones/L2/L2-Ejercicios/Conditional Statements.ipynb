{
 "cells": [
  {
   "cell_type": "code",
   "execution_count": 9,
   "metadata": {
    "collapsed": false
   },
   "outputs": [
    {
     "name": "stdout",
     "output_type": "stream",
     "text": [
      "x es un numero postivo\n"
     ]
    }
   ],
   "source": [
    "x = 9\n",
    "if x > 0:\n",
    "    print 'x es un numero postivo'\n",
    "else:\n",
    "    print 'x es un numero negativo'"
   ]
  },
  {
   "cell_type": "code",
   "execution_count": 11,
   "metadata": {
    "collapsed": false
   },
   "outputs": [
    {
     "name": "stdout",
     "output_type": "stream",
     "text": [
      "x es un numero negativo\n"
     ]
    }
   ],
   "source": [
    "x = 0\n",
    "if x > 0:\n",
    "    print 'x es un numero postivo'\n",
    "else:\n",
    "    print 'x es un numero negativo'"
   ]
  },
  {
   "cell_type": "code",
   "execution_count": 13,
   "metadata": {
    "collapsed": false
   },
   "outputs": [
    {
     "name": "stdout",
     "output_type": "stream",
     "text": [
      "x es cero\n"
     ]
    }
   ],
   "source": [
    "x = 0\n",
    "if x > 0:\n",
    "    print 'x es un numero postivo'\n",
    "elif x < 0:\n",
    "    print 'x es un numero negativo'\n",
    "else:\n",
    "    print 'x es cero'"
   ]
  },
  {
   "cell_type": "code",
   "execution_count": 35,
   "metadata": {
    "collapsed": false
   },
   "outputs": [
    {
     "name": "stdout",
     "output_type": "stream",
     "text": [
      "x es un numero negativo e inpar\n"
     ]
    }
   ],
   "source": [
    "x = -3\n",
    "if x > 0:\n",
    "    if x % 2 == 0:\n",
    "        print 'x es un numero positivo'\n",
    "    elif x % 2 != 0:\n",
    "        print 'x es un numero positvio e inpar'\n",
    "elif x < 0:\n",
    "    if x % 2 == 0:\n",
    "        print 'x es un numero negativo y par'\n",
    "    if x % 2 != 0:\n",
    "        print 'x es un numero negativo e inpar'\n",
    "else:\n",
    "    print 'x es cero'"
   ]
  },
  {
   "cell_type": "code",
   "execution_count": 37,
   "metadata": {
    "collapsed": false
   },
   "outputs": [
    {
     "name": "stdout",
     "output_type": "stream",
     "text": [
      "x es un numero negativo e inpar\n"
     ]
    }
   ],
   "source": [
    "x = -3\n",
    "if x > 0:\n",
    "    print 'x es un numero positivo y par' if x % 2 == 0 else 'x es un numero positvio e inpar'\n",
    "elif x < 0:\n",
    "    print 'x es un numero negativo y par' if x % 2 == 0 else 'x es un numero negativo e inpar'\n",
    "else:\n",
    "    print 'x es cero'"
   ]
  },
  {
   "cell_type": "code",
   "execution_count": null,
   "metadata": {
    "collapsed": true
   },
   "outputs": [],
   "source": [
    "dic = {0: x + x}"
   ]
  }
 ],
 "metadata": {
  "kernelspec": {
   "display_name": "Python 2",
   "language": "python",
   "name": "python2"
  },
  "language_info": {
   "codemirror_mode": {
    "name": "ipython",
    "version": 2
   },
   "file_extension": ".py",
   "mimetype": "text/x-python",
   "name": "python",
   "nbconvert_exporter": "python",
   "pygments_lexer": "ipython2",
   "version": "2.7.11"
  }
 },
 "nbformat": 4,
 "nbformat_minor": 2
}
