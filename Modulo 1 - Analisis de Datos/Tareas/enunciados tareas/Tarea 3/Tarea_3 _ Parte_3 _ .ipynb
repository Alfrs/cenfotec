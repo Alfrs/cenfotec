{
 "cells": [
  {
   "cell_type": "markdown",
   "metadata": {},
   "source": [
    "# Parte 3: Clases\n",
    "\n",
    "Resuelva los siguientes problemas de acuerdo con lo que se vio en clase"
   ]
  },
  {
   "cell_type": "markdown",
   "metadata": {},
   "source": [
    "##### Ejercicio 1: Clase circulo\n",
    "\n",
    "Cree una clase que se llame círculo que tenga como atribuot el radio del círculo y además el valor de pi. Además debe tener un método que calcule el área del círculo y la circunferencia"
   ]
  },
  {
   "cell_type": "code",
   "execution_count": 1,
   "metadata": {},
   "outputs": [
    {
     "name": "stdout",
     "output_type": "stream",
     "text": [
      "Radio: 5\n",
      "Pi:  3.1416\n",
      "Area: 78.53999999999999\n",
      "Circunferencia:  31.416\n"
     ]
    }
   ],
   "source": [
    "class Circulo(object):\n",
    "    pi = 3.1416\n",
    "    def __init__(self,radio):\n",
    "        self.radio = radio\n",
    "    def area(self):\n",
    "        return (self.pi * (self.radio**2))\n",
    "    def circ(self):\n",
    "        return (self.pi * (self.radio*2))\n",
    "    \n",
    "c = Circulo(radio=5)\n",
    "print(\"Radio:\", c.radio)\n",
    "print(\"Pi: \", c.pi)\n",
    "print(\"Area:\", c.area())\n",
    "print(\"Circunferencia: \", c.circ())"
   ]
  },
  {
   "cell_type": "code",
   "execution_count": 2,
   "metadata": {},
   "outputs": [
    {
     "name": "stdout",
     "output_type": "stream",
     "text": [
      "Radio: 5\n",
      "Pi:  3.1416\n",
      "Area: 78.53999999999999\n",
      "Circunferencia:  31.416\n"
     ]
    }
   ],
   "source": [
    "# Resultado Esperado\n",
    "c = Circulo(radio=5)\n",
    "print(\"Radio:\", c.radio)\n",
    "print(\"Pi: \", c.pi)\n",
    "print(\"Area:\", c.area())\n",
    "print(\"Circunferencia: \", c.circ())"
   ]
  },
  {
   "cell_type": "markdown",
   "metadata": {},
   "source": [
    "#### Ejercicio 2: Clase linea\n",
    "\n",
    "Cree una clase que se llame linea que reciba el punto inicial (x, y) el punto final (x2, y2) y los guarde como atributos y que tenga un método que calcule la longitud de la línea y otro la pendiente de la línea.   "
   ]
  },
  {
   "cell_type": "code",
   "execution_count": 3,
   "metadata": {},
   "outputs": [
    {
     "name": "stdout",
     "output_type": "stream",
     "text": [
      "5.385164807134504\n",
      "-0.4\n"
     ]
    }
   ],
   "source": [
    "class Linea(object):\n",
    "    def __init__(self,xy,x2y2):\n",
    "        self.xy = xy\n",
    "        #self.y = y\n",
    "        self.x2y2 = x2y2\n",
    "        #self.y2 = y2\n",
    "    def distancia(self):\n",
    "        x_diff = (self.xy[0] - self.x2y2[0])**2\n",
    "        y_diff = (self.xy[1] - self.x2y2[1])**2\n",
    "        return(x_diff+y_diff)**(0.5)\n",
    "    def pendiente(self):\n",
    "        m = (self.x2y2[1]-self.xy[1])/(self.x2y2[0] - self.xy[0])\n",
    "        return m\n",
    "        \n",
    "l = Linea((1,3),(-4,5))\n",
    "print(l.distancia())\n",
    "print(l.pendiente())"
   ]
  },
  {
   "cell_type": "code",
   "execution_count": 4,
   "metadata": {},
   "outputs": [
    {
     "name": "stdout",
     "output_type": "stream",
     "text": [
      "5.385164807134504\n",
      "-0.4\n"
     ]
    }
   ],
   "source": [
    "# Resultado Esperado\n",
    "l = Linea((1,3),(-4,5))\n",
    "print(l.distancia())\n",
    "print(l.pendiente())"
   ]
  },
  {
   "cell_type": "markdown",
   "metadata": {},
   "source": [
    "#### Ejercicio 3: Clase Animal\n",
    "\n",
    "Cree una clase que se llame Animal que defina los atributos que usted considere que tienen que tener un animal. Dentro de esta clase debe existir un método llamado \"hablar\" que devuelva algun texto. \n",
    "\n",
    "Cree una clsae que se llame Perro y otra que se llame Gato y que ambas hereden propiedades de la clase animal y que cada una tenga su propio método \"hablar\" que diga algo diferente a Animal. \n",
    "\n",
    "Explique en una celda de Markdown qué es lo que está pasando."
   ]
  },
  {
   "cell_type": "code",
   "execution_count": 5,
   "metadata": {},
   "outputs": [
    {
     "name": "stdout",
     "output_type": "stream",
     "text": [
      "Soy un animal, me llamo a1, tengo 24 años, y soy de la raza humano\n",
      "Soy un perro, me llamo p1, tengo 10 años, y soy un doberman\n",
      "Soy un gato, me llamo g1, tengo 12 años, y soy un siames\n"
     ]
    }
   ],
   "source": [
    "class Animal(object):\n",
    "    def __init__(self,nombre,raza,edad):\n",
    "        self.nombre = nombre\n",
    "        self.raza = raza\n",
    "        self.edad = edad\n",
    "    def hablar(self):\n",
    "        print(\"Soy un animal, me llamo {}, tengo {} años, y soy de la raza {}\".format(self.nombre,self.edad,self.raza))\n",
    "        \n",
    "class Perro(Animal):\n",
    "    def __init__(self,nombre,raza,edad):\n",
    "        Animal.__init__(self,nombre,raza,edad)\n",
    "    def hablar(self):\n",
    "        print(\"Soy un perro, me llamo {}, tengo {} años, y soy un {}\".format(self.nombre,self.edad,self.raza))\n",
    "\n",
    "class Gato(Animal):\n",
    "    def __init__(self,nombre,raza,edad):\n",
    "        Animal.__init__(self,nombre,raza,edad)\n",
    "    def hablar(self):\n",
    "        print(\"Soy un gato, me llamo {}, tengo {} años, y soy un {}\".format(self.nombre,self.edad,self.raza))\n",
    "        \n",
    "A = Animal('a1','humano','24')\n",
    "A.hablar()\n",
    "P = Perro('p1','doberman','10')\n",
    "P.hablar()\n",
    "G = Gato('g1','siames','12')\n",
    "G.hablar()"
   ]
  },
  {
   "cell_type": "markdown",
   "metadata": {},
   "source": [
    "#### Ejercicio 4: Cuenta de Banco\n",
    "Cree una clase que corresponda a una cuenta de banco. La cuenta de banco va a tener dos atributos:\n",
    "\n",
    "* dueño\n",
    "* balance (saldo)\n",
    "* clave\n",
    "\n",
    "y dos métodos:\n",
    "\n",
    "* depositar\n",
    "* retirar\n",
    "* validar clave\n",
    "\n",
    "Requerimientos: \n",
    "\n",
    "    - Se debe crear una clave cuando se crea la cuenta y se tiene que hacer un método que valide que la clave es segura: Debe tener por lo menos 8 caracteres y tener letras, números y al menos un caracter especial (*/!+-)\n",
    "    - No se puede retirar montos que hagan que la cuenta quede en menos de 0, en otras palabras se tiene que tener saldo para poder hacer un retiro. \n",
    "    - Cada vez que se usa un método se tiene que ingresar la clave y se tiene que validar. \n",
    "    - Cuando se usa el método print() se debe imprimir un texto que describa la cuenta. \n",
    "    - Se debe lanzar mensajes que indiquen al usuario qué es lo que está pasando. \n",
    "   "
   ]
  },
  {
   "cell_type": "code",
   "execution_count": 6,
   "metadata": {},
   "outputs": [],
   "source": [
    "import string\n",
    "class cuenta_banco(object):\n",
    "    def __init__(self):\n",
    "        self.dueno = ''\n",
    "        self.balance = 0\n",
    "        self.clave = ''\n",
    "    def __str__(self):\n",
    "        return \"Dueño: {}. Balance Actual: {}\".format(self.dueno,self.balance)\n",
    "    def crear_cuenta(self,dueno,clave):\n",
    "        self.dueno = dueno\n",
    "        self.clave = self.validar_clave(clave)\n",
    "    def validar_clave(self,clave):\n",
    "        if len(clave) < 8:\n",
    "            print(\"La clave no es segura; debe tener al menos 8 caracteres\")\n",
    "            pass\n",
    "        elif not any(char.isalpha() for char in clave):\n",
    "            print(\"La clave no es segura; debe tener letras\")\n",
    "            pass\n",
    "        elif not any(char.isdigit() for char in clave):\n",
    "            print(\"La clave no es segura; debe tener numeros\")\n",
    "            pass\n",
    "        elif not any(char in set(string.punctuation) for char in clave):\n",
    "            print(\"La clave no es segura; debe tener caracteres especiales:\", string.punctuation)\n",
    "            pass\n",
    "        else:\n",
    "            print(\"La clave es segura\")\n",
    "        return clave\n",
    "    def depositar(self,deposito):\n",
    "        temp_clave = input(\"Por favor digite la contraseña: \")\n",
    "        if temp_clave == self.clave:\n",
    "            print(\"Bienvenido {}\".format(self.dueno))\n",
    "            self.balance += deposito\n",
    "            print(self)\n",
    "        else:\n",
    "            print(\"Clave incorrecta\")\n",
    "            pass\n",
    "    def retirar(self,retiro):\n",
    "        temp_clave = input(\"Por favor digite la contraseña: \")\n",
    "        if temp_clave == self.clave:\n",
    "            if self.balance - retiro < 0:\n",
    "                print(\"Fondos insuficientes para realizar el retiro\")\n",
    "                pass\n",
    "            else:\n",
    "                self.balance -= retiro\n",
    "                print(self)\n",
    "        else:\n",
    "            print(\"Clave incorrecta\")\n",
    "            pass\n",
    "        \n"
   ]
  },
  {
   "cell_type": "code",
   "execution_count": 7,
   "metadata": {},
   "outputs": [
    {
     "name": "stdout",
     "output_type": "stream",
     "text": [
      "Dueño: . Balance Actual: 0\n",
      "La clave es segura\n",
      "6zXtJPMgi9!4kkPb\n",
      "Dueño: Alfredo Rojas. Balance Actual: 0\n",
      "Por favor digite la contraseña: 6zXtJPMgi9!4kkPb\n",
      "Bienvenido Alfredo Rojas\n",
      "Dueño: Alfredo Rojas. Balance Actual: 98000\n",
      "Por favor digite la contraseña: 6zXtJPMgi9!4kkPb\n",
      "Dueño: Alfredo Rojas. Balance Actual: 88000\n"
     ]
    }
   ],
   "source": [
    "CB = cuenta_banco()\n",
    "print(CB)\n",
    "CB.crear_cuenta(\"Alfredo Rojas\",\"6zXtJPMgi9!4kkPb\")\n",
    "print(CB)\n",
    "CB.depositar(98000)\n",
    "CB.retirar(10000)"
   ]
  },
  {
   "cell_type": "markdown",
   "metadata": {},
   "source": [
    "## Reto"
   ]
  },
  {
   "cell_type": "markdown",
   "metadata": {},
   "source": [
    "#### Ejercicio 5: Guía telefónica\n",
    "\n",
    "Cree una clase que se llame guía telefónica que guarde instancias de la clase Contactos en un diccionario. La guía telefónica debe tener un método para agregar contactos, para modificar contactos y para eliminar contactos. Ademas, cuando se use print() debería imprimirse en consola una descripción de la guía telefónica.  \n",
    "\n",
    "\n",
    "Cree una clase que se llame \"Contacto\" que cuente con los atributos de:\n",
    "\n",
    "* Nombre\n",
    "* Apellido\n",
    "* Teléfono\n",
    "* Celular\n",
    "* Correo\n",
    "\n",
    "Cada contacto debe tener un método que se llame \"imprimir contacto\" que imprima toda la información de contacto a la consola. \n",
    "\n",
    "**Nota: Este ejercicio es una pregunta bastante abierta con la intención de que se elabore el proyecto tanto como se quiera.**"
   ]
  },
  {
   "cell_type": "code",
   "execution_count": null,
   "metadata": {},
   "outputs": [],
   "source": []
  },
  {
   "cell_type": "code",
   "execution_count": null,
   "metadata": {},
   "outputs": [],
   "source": []
  }
 ],
 "metadata": {
  "kernelspec": {
   "display_name": "Python 3",
   "language": "python",
   "name": "python3"
  },
  "language_info": {
   "codemirror_mode": {
    "name": "ipython",
    "version": 3
   },
   "file_extension": ".py",
   "mimetype": "text/x-python",
   "name": "python",
   "nbconvert_exporter": "python",
   "pygments_lexer": "ipython3",
   "version": "3.7.0"
  }
 },
 "nbformat": 4,
 "nbformat_minor": 2
}
