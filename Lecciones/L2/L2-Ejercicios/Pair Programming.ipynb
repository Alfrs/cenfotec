{
 "cells": [
  {
   "cell_type": "markdown",
   "metadata": {
    "deletable": true,
    "editable": true
   },
   "source": [
    "## Pair Programming\n",
    "\n",
    "### Ejercicio 1\n",
    "\n",
    "Cual es la medida de un angulo de 90º  en radianes? \n",
    "\n",
    "$1º =  \\frac{π}{180}$"
   ]
  },
  {
   "cell_type": "code",
   "execution_count": 7,
   "metadata": {
    "collapsed": false,
    "deletable": true,
    "editable": true
   },
   "outputs": [
    {
     "name": "stdout",
     "output_type": "stream",
     "text": [
      "1.57\n"
     ]
    }
   ],
   "source": [
    "pi = 3.14\n",
    "radianes = pi/180\n",
    "angulo = 90* radianes\n",
    "print angulo"
   ]
  },
  {
   "cell_type": "markdown",
   "metadata": {
    "deletable": true,
    "editable": true
   },
   "source": [
    "### Ejercicio 2\n",
    "\n",
    "Cual es el area de un trapecio que tiene de altura 6cm, de bases 5cm y 10cm?\n",
    "\n",
    "$A = \\frac{B + b}{2}* h$"
   ]
  },
  {
   "cell_type": "code",
   "execution_count": 13,
   "metadata": {
    "collapsed": false,
    "deletable": true,
    "editable": true
   },
   "outputs": [
    {
     "name": "stdout",
     "output_type": "stream",
     "text": [
      "45.0\n"
     ]
    }
   ],
   "source": [
    "base1 = 5\n",
    "base2 = 10\n",
    "altura = 6\n",
    "area = (base1+base2)/float(2)\n",
    "print area*altura"
   ]
  },
  {
   "cell_type": "markdown",
   "metadata": {
    "deletable": true,
    "editable": true
   },
   "source": [
    "### Ejercicio 3\n",
    "\n",
    "Cual es el volumen y el area de superficie de un cilindro que tiene altura de 4cm y un radio de 6cm?\n",
    "\n",
    "$V = πr^2h$\n",
    "\n",
    "$A_b = πr^2$\n",
    "\n",
    "$A_l = 2 * πrh$\n",
    "\n",
    "$A = 2 * A_l + A_b$"
   ]
  },
  {
   "cell_type": "code",
   "execution_count": 16,
   "metadata": {
    "collapsed": false,
    "deletable": true,
    "editable": true
   },
   "outputs": [
    {
     "name": "stdout",
     "output_type": "stream",
     "text": [
      "452.16\n",
      "376.8\n"
     ]
    }
   ],
   "source": [
    "h = 4\n",
    "r = 6\n",
    "pi =3.14\n",
    "v = pi*r**2*h\n",
    "a = (2*(pi*r**2)) + (2*pi*r)*h\n",
    "print v\n",
    "print a"
   ]
  },
  {
   "cell_type": "markdown",
   "metadata": {
    "deletable": true,
    "editable": true
   },
   "source": [
    "### Ejercicio 4\n",
    "\n",
    "Cual es el volumen y el area de superficie de una esfera que tiene un radio de 0.75cm?\n",
    "\n",
    "$V = \\frac{4}{3}πr^3$\n",
    "\n",
    "$A = 4πr^2$"
   ]
  },
  {
   "cell_type": "code",
   "execution_count": 17,
   "metadata": {
    "collapsed": false,
    "deletable": true,
    "editable": true
   },
   "outputs": [
    {
     "name": "stdout",
     "output_type": "stream",
     "text": [
      "1.3246875\n",
      "7.065\n"
     ]
    }
   ],
   "source": [
    "pi= 22/7\n",
    "radio = 0.75\n",
    "volumen = (4/3)*pi*(radio**3)\n",
    "area = 4*pi*(radio**2)\n",
    "print volumen\n",
    "print area"
   ]
  },
  {
   "cell_type": "markdown",
   "metadata": {
    "deletable": true,
    "editable": true
   },
   "source": [
    "### Ejercicio 5\n",
    "\n",
    "a. Un grupo de 4 piratas encuentra un tesoro de 107 monedas de oro. Si dividen el tesoro equitativamente, cuantas monedas enteras se queda cada pirata ?\n",
    "b. Después de dividir equitativamente el tesoro, cuantas monedas de oro sobran?"
   ]
  },
  {
   "cell_type": "code",
   "execution_count": 19,
   "metadata": {
    "collapsed": false,
    "deletable": true,
    "editable": true
   },
   "outputs": [
    {
     "name": "stdout",
     "output_type": "stream",
     "text": [
      "26\n"
     ]
    }
   ],
   "source": [
    "monedas = 107\n",
    "piratas = 4\n",
    "premio = 107 // 4\n",
    "print premio"
   ]
  },
  {
   "cell_type": "code",
   "execution_count": 21,
   "metadata": {
    "collapsed": false
   },
   "outputs": [
    {
     "name": "stdout",
     "output_type": "stream",
     "text": [
      "3\n"
     ]
    }
   ],
   "source": [
    "print monedas - (piratas*premio)"
   ]
  },
  {
   "cell_type": "code",
   "execution_count": 22,
   "metadata": {
    "collapsed": false
   },
   "outputs": [
    {
     "name": "stdout",
     "output_type": "stream",
     "text": [
      "3\n"
     ]
    }
   ],
   "source": [
    "print monedas % piratas"
   ]
  }
 ],
 "metadata": {
  "kernelspec": {
   "display_name": "Python 2",
   "language": "python",
   "name": "python2"
  },
  "language_info": {
   "codemirror_mode": {
    "name": "ipython",
    "version": 2
   },
   "file_extension": ".py",
   "mimetype": "text/x-python",
   "name": "python",
   "nbconvert_exporter": "python",
   "pygments_lexer": "ipython2",
   "version": "2.7.11"
  }
 },
 "nbformat": 4,
 "nbformat_minor": 2
}
