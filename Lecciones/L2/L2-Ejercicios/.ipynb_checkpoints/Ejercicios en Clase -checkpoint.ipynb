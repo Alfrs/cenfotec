{
 "cells": [
  {
   "cell_type": "markdown",
   "metadata": {},
   "source": [
    "## Ejercicio 1\n",
    "\n",
    "Escriban un programa que encuentre todos los números que son divisibles entre 7 pero que no son múltiplos de 5 entre 200 y 3200 (los dos incluidos)."
   ]
  },
  {
   "cell_type": "code",
   "execution_count": null,
   "metadata": {},
   "outputs": [],
   "source": [
    "resultado = []\n",
    "for i in range(2000,3201):\n",
    "    if i % 7 == 0 and i % 5 != 0:\n",
    "        resultado.append(i)\n",
    "print resultado"
   ]
  },
  {
   "cell_type": "markdown",
   "metadata": {},
   "source": [
    "## Ejercicio 2\n",
    "\n",
    "Escriban un programa que genere una lista y un tuple con todos los valores de este csv string: “34,67,32,56,89”. \n",
    "\n",
    "Hint: utilizar .split(‘,’)"
   ]
  },
  {
   "cell_type": "code",
   "execution_count": null,
   "metadata": {},
   "outputs": [],
   "source": [
    "variable = \"34,67,32,56,89\"\n",
    "lista = variable.split(',')\n",
    "tup = tuple(lista)\n",
    "print lista\n",
    "print tup\n"
   ]
  },
  {
   "cell_type": "markdown",
   "metadata": {},
   "source": [
    "## Ejercicio 3\n",
    "\n",
    "Escriban un programa que encuentre todos los números entre 399 y 500 (los dos incluidos) donde cada dígito de este número es un número par."
   ]
  },
  {
   "cell_type": "code",
   "execution_count": null,
   "metadata": {},
   "outputs": [],
   "source": [
    "resultado = []\n",
    "for i in range(399,501):\n",
    "    s = str(i)\n",
    "    if (int(s[0])%2==0) and (int(s[1])%2==0) and (int(s[2])%2==0):\n",
    "        resultado.append(s)\n",
    "print resultado"
   ]
  },
  {
   "cell_type": "markdown",
   "metadata": {},
   "source": [
    "## Ejercicio 4\n",
    "\n",
    "Escriban un programa que cuente cuantos caracteres son dígitos y cuantos caracteres son letras en “Pura Vida 506”. El programa debería imprimir el resultado de la siguiente manera: \n",
    "\n",
    "LETRAS 8\n",
    "DIGITOS 3\n",
    "\n",
    "Hint: utilizar .isdigit() y .isalpha()"
   ]
  },
  {
   "cell_type": "code",
   "execution_count": 2,
   "metadata": {},
   "outputs": [
    {
     "name": "stdout",
     "output_type": "stream",
     "text": [
      "3\n",
      "8\n"
     ]
    }
   ],
   "source": [
    "variable = \"Pura Vida 506\"\n",
    "digitos = [str(x) for x in range(0,10)]\n",
    "count_num = 0\n",
    "count_let = 0\n",
    "for char in variable.replace(' ',''):\n",
    "    count_num = count_num + 1 if char in digitos else count_num \n",
    "    count_let = count_let + 1 if char not in digitos else count_let \n",
    "print(count_num)\n",
    "print(count_let)"
   ]
  },
  {
   "cell_type": "code",
   "execution_count": null,
   "metadata": {
    "collapsed": true
   },
   "outputs": [],
   "source": []
  }
 ],
 "metadata": {
  "kernelspec": {
   "display_name": "Python 3",
   "language": "python",
   "name": "python3"
  },
  "language_info": {
   "codemirror_mode": {
    "name": "ipython",
    "version": 3
   },
   "file_extension": ".py",
   "mimetype": "text/x-python",
   "name": "python",
   "nbconvert_exporter": "python",
   "pygments_lexer": "ipython3",
   "version": "3.6.3"
  }
 },
 "nbformat": 4,
 "nbformat_minor": 2
}
