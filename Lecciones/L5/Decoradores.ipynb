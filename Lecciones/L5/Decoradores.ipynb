{
 "cells": [
  {
   "cell_type": "markdown",
   "metadata": {
    "deletable": true,
    "editable": true
   },
   "source": [
    "# Recap de Funciones\n",
    "\n",
    "Los decoradores en Python son objetos que se usan para modificar funciones o clases. Para entender como funcionan los decoradores tenemos que repasar algunos aspectos importantes sobre funciones:\n",
    "\n",
    "* El nombre que se le asigna a una funcion es una referencia a el codigo que está en esa funcion"
   ]
  },
  {
   "cell_type": "code",
   "execution_count": 1,
   "metadata": {
    "collapsed": false,
    "deletable": true,
    "editable": true
   },
   "outputs": [
    {
     "name": "stdout",
     "output_type": "stream",
     "text": [
      "11\n",
      "11\n"
     ]
    }
   ],
   "source": [
    "def suc(x):\n",
    "    return x + 1\n",
    "\n",
    "sucesor = suc\n",
    "print sucesor(10)\n",
    "print suc(10)"
   ]
  },
  {
   "cell_type": "markdown",
   "metadata": {
    "deletable": true,
    "editable": true
   },
   "source": [
    "* Podemos eliminar las referencias a una funcion sin tener que eliminar el codigo que está en esa funcion"
   ]
  },
  {
   "cell_type": "code",
   "execution_count": 2,
   "metadata": {
    "collapsed": false,
    "deletable": true,
    "editable": true
   },
   "outputs": [
    {
     "name": "stdout",
     "output_type": "stream",
     "text": [
      "11\n"
     ]
    }
   ],
   "source": [
    "del suc\n",
    "print sucesor(10)"
   ]
  },
  {
   "cell_type": "code",
   "execution_count": 3,
   "metadata": {
    "collapsed": false,
    "deletable": true,
    "editable": true
   },
   "outputs": [
    {
     "ename": "NameError",
     "evalue": "name 'suc' is not defined",
     "output_type": "error",
     "traceback": [
      "\u001b[0;31m---------------------------------------------------------------------------\u001b[0m",
      "\u001b[0;31mNameError\u001b[0m                                 Traceback (most recent call last)",
      "\u001b[0;32m<ipython-input-3-11e27e6a8731>\u001b[0m in \u001b[0;36m<module>\u001b[0;34m()\u001b[0m\n\u001b[0;32m----> 1\u001b[0;31m \u001b[0;32mprint\u001b[0m \u001b[0msuc\u001b[0m\u001b[0;34m(\u001b[0m\u001b[0;36m10\u001b[0m\u001b[0;34m)\u001b[0m\u001b[0;34m\u001b[0m\u001b[0m\n\u001b[0m",
      "\u001b[0;31mNameError\u001b[0m: name 'suc' is not defined"
     ]
    }
   ],
   "source": [
    "print suc(10)"
   ]
  },
  {
   "cell_type": "markdown",
   "metadata": {
    "deletable": true,
    "editable": true
   },
   "source": [
    "* Se pueden utilizar funciones dentro de funciones"
   ]
  },
  {
   "cell_type": "code",
   "execution_count": 4,
   "metadata": {
    "collapsed": false,
    "deletable": true,
    "editable": true
   },
   "outputs": [
    {
     "name": "stdout",
     "output_type": "stream",
     "text": [
      "esta es la funcion 'f'\n",
      "voy a llamar a la funcion 'g'\n",
      "esta es la funcion 'g'\n"
     ]
    }
   ],
   "source": [
    "def f():\n",
    "    def g():\n",
    "        print('esta es la funcion \\'g\\'')\n",
    "        \n",
    "    print('esta es la funcion \\'f\\'')\n",
    "    print('voy a llamar a la funcion \\'g\\'')\n",
    "    g()\n",
    "\n",
    "f()"
   ]
  },
  {
   "cell_type": "code",
   "execution_count": 6,
   "metadata": {
    "collapsed": false,
    "deletable": true,
    "editable": true
   },
   "outputs": [
    {
     "name": "stdout",
     "output_type": "stream",
     "text": [
      "20 grados Celcius es igual a 68 grados Fahrenheit\n"
     ]
    }
   ],
   "source": [
    "def temperatura(c):\n",
    "    def celsius2fahrenheit(f):\n",
    "        return 9 * f / 5 + 32\n",
    "\n",
    "    result = str(c) + \" grados Celcius es igual a \" + str(celsius2fahrenheit(c)) + \" grados Fahrenheit\" \n",
    "    return result\n",
    "\n",
    "print(temperatura(20))"
   ]
  },
  {
   "cell_type": "markdown",
   "metadata": {
    "deletable": true,
    "editable": true
   },
   "source": [
    "* Las funciones se pueden utilizar como parametros dentro de funciones"
   ]
  },
  {
   "cell_type": "code",
   "execution_count": 7,
   "metadata": {
    "collapsed": false,
    "deletable": true,
    "editable": true
   },
   "outputs": [
    {
     "name": "stdout",
     "output_type": "stream",
     "text": [
      "esta es la funcion 'f'\n",
      "voy a llamar a la funcion 'g'\n",
      "esta es la funcion 'g'\n"
     ]
    }
   ],
   "source": [
    "def g():\n",
    "    print('esta es la funcion \\'g\\'')\n",
    "    \n",
    "def f(func):\n",
    "    print('esta es la funcion \\'f\\'')\n",
    "    print('voy a llamar a la funcion \\'g\\'')\n",
    "    func()\n",
    "          \n",
    "f(g)"
   ]
  },
  {
   "cell_type": "markdown",
   "metadata": {
    "deletable": true,
    "editable": true
   },
   "source": [
    "* Las funciones también pueden `return` una funcion"
   ]
  },
  {
   "cell_type": "code",
   "execution_count": 8,
   "metadata": {
    "collapsed": false,
    "deletable": true,
    "editable": true
   },
   "outputs": [
    {
     "name": "stdout",
     "output_type": "stream",
     "text": [
      "x = 1\n",
      "x = 3\n",
      "y = 1\n",
      "5\n",
      "y = 1\n",
      "7\n"
     ]
    }
   ],
   "source": [
    "def f(x):\n",
    "    def g(y):\n",
    "        print 'y = ' + str(y)\n",
    "        return y + x + 3\n",
    "    print 'x = ' + str(x)\n",
    "    return g\n",
    "\n",
    "nf1 = f(1)\n",
    "nf2 = f(3)\n",
    "\n",
    "print(nf1(1))\n",
    "print(nf2(1))"
   ]
  },
  {
   "cell_type": "markdown",
   "metadata": {
    "deletable": true,
    "editable": true
   },
   "source": [
    "# Un simple decorador"
   ]
  },
  {
   "cell_type": "code",
   "execution_count": 9,
   "metadata": {
    "collapsed": false,
    "deletable": true,
    "editable": true
   },
   "outputs": [
    {
     "name": "stdout",
     "output_type": "stream",
     "text": [
      "llamamos primero a la funcion 'foo'\n",
      "esta es la funcion'foo': hola\n",
      "ahora decoramos a 'foo' con 'f'\n",
      "ahora llamamos a 'foo' despues de decorar\n",
      "antes de llamar a foo\n",
      "esta es la funcion'foo': 42\n",
      "despues de llamar a foo\n"
     ]
    }
   ],
   "source": [
    "def decorador(func):\n",
    "    def function_wrapper(x):\n",
    "        print(\"antes de llamar a \" + func.__name__)\n",
    "        func(x)\n",
    "        print(\"despues de llamar a \" + func.__name__)\n",
    "    return function_wrapper\n",
    "\n",
    "def foo(x):\n",
    "    print('esta es la funcion\\'foo\\': ' + str(x))\n",
    "\n",
    "print('llamamos primero a la funcion \\'foo\\'')\n",
    "foo('hola')\n",
    "    \n",
    "print('ahora decoramos a \\'foo\\' con \\'f\\'')\n",
    "foo = decorador(foo)\n",
    "\n",
    "print('ahora llamamos a \\'foo\\' despues de decorar')\n",
    "foo(42)"
   ]
  },
  {
   "cell_type": "markdown",
   "metadata": {
    "deletable": true,
    "editable": true
   },
   "source": [
    "la declaración `foo = decorador(foo)` hace que `foo` exista dos veces en el programa: antes de la decoración y después de la decoración."
   ]
  },
  {
   "cell_type": "code",
   "execution_count": 10,
   "metadata": {
    "collapsed": false,
    "deletable": true,
    "editable": true
   },
   "outputs": [
    {
     "name": "stdout",
     "output_type": "stream",
     "text": [
      "antes de llamar a foo\n",
      "esta es la funcion'foo': Hi\n",
      "despues de llamar a foo\n"
     ]
    }
   ],
   "source": [
    "def decorador(func):\n",
    "    def function_wrapper(x):\n",
    "        print(\"antes de llamar a \" + func.__name__)\n",
    "        func(x)\n",
    "        print(\"despues de llamar a \" + func.__name__)\n",
    "    return function_wrapper\n",
    "\n",
    "@decorador\n",
    "def foo(x):\n",
    "    print('esta es la funcion\\'foo\\': ' + str(x))\n",
    "\n",
    "foo(\"Hi\")"
   ]
  },
  {
   "cell_type": "markdown",
   "metadata": {
    "deletable": true,
    "editable": true
   },
   "source": [
    "y podemos utilizar la declaración `@decorador` en las funciones que queramos"
   ]
  },
  {
   "cell_type": "code",
   "execution_count": 11,
   "metadata": {
    "collapsed": false,
    "deletable": true,
    "editable": true
   },
   "outputs": [
    {
     "name": "stdout",
     "output_type": "stream",
     "text": [
      "antes de llamar a succ\n",
      "despues de llamar a succ\n"
     ]
    }
   ],
   "source": [
    "def decorador(func):\n",
    "    def function_wrapper(x):\n",
    "        print(\"antes de llamar a \" + func.__name__)\n",
    "        func(x) ###\n",
    "        print(\"despues de llamar a \" + func.__name__)\n",
    "    return function_wrapper\n",
    "\n",
    "@decorador\n",
    "def succ(n):\n",
    "    return n + 1 ###\n",
    "\n",
    "succ(10)"
   ]
  },
  {
   "cell_type": "markdown",
   "metadata": {
    "deletable": true,
    "editable": true
   },
   "source": [
    "también es posible decorar funciones de modulos importados"
   ]
  },
  {
   "cell_type": "code",
   "execution_count": 12,
   "metadata": {
    "collapsed": false,
    "deletable": true,
    "editable": true
   },
   "outputs": [
    {
     "name": "stdout",
     "output_type": "stream",
     "text": [
      "antes de llamar a sin\n",
      "9.26535896605e-05\n",
      "despues de llamar a sin\n",
      "antes de llamar a cos\n",
      "-0.999999995708\n",
      "despues de llamar a cos\n"
     ]
    }
   ],
   "source": [
    "from math import sin, cos\n",
    "\n",
    "def decorador(func):\n",
    "    def function_wrapper(x):\n",
    "        print(\"antes de llamar a \" + func.__name__)\n",
    "        res = func(x)\n",
    "        print(res)\n",
    "        print(\"despues de llamar a \" + func.__name__)\n",
    "    return function_wrapper\n",
    "\n",
    "# for f in [sin, cos]:\n",
    "#     print f(3.1415)\n",
    "\n",
    "sin = decorador(sin)\n",
    "cos = decorador(cos)\n",
    "\n",
    "for f in [sin, cos]:\n",
    "    f(3.1415)"
   ]
  },
  {
   "cell_type": "markdown",
   "metadata": {
    "deletable": true,
    "editable": true
   },
   "source": [
    "En resumen, los decoradores en Python son objetos que se utilizan para modificar funciones, metodos o clases. \n",
    "\n",
    "El objeto original, el que va a ser modificado, se le pasa al decorador como un parametro. \n",
    "\n",
    "El decorador devuelve un objeto modificado, que esta atado al nombre que se uso en la definición."
   ]
  },
  {
   "cell_type": "markdown",
   "metadata": {
    "deletable": true,
    "editable": true
   },
   "source": [
    "por ahora hemos visto solamente como funcionan los decoradores utilizando funciones que solamente usan un parametro. Que pasa si queremos modificar una función que utiliza mas de un paramtero?"
   ]
  },
  {
   "cell_type": "code",
   "execution_count": 13,
   "metadata": {
    "collapsed": false,
    "deletable": true,
    "editable": true
   },
   "outputs": [
    {
     "ename": "TypeError",
     "evalue": "function_wrapper() takes exactly 1 argument (2 given)",
     "output_type": "error",
     "traceback": [
      "\u001b[0;31m---------------------------------------------------------------------------\u001b[0m",
      "\u001b[0;31mTypeError\u001b[0m                                 Traceback (most recent call last)",
      "\u001b[0;32m<ipython-input-13-7deb0d36dc7c>\u001b[0m in \u001b[0;36m<module>\u001b[0;34m()\u001b[0m\n\u001b[1;32m     10\u001b[0m     \u001b[0;32mreturn\u001b[0m \u001b[0mn\u001b[0m \u001b[0;34m+\u001b[0m \u001b[0mi\u001b[0m\u001b[0;34m\u001b[0m\u001b[0m\n\u001b[1;32m     11\u001b[0m \u001b[0;34m\u001b[0m\u001b[0m\n\u001b[0;32m---> 12\u001b[0;31m \u001b[0msucc\u001b[0m\u001b[0;34m(\u001b[0m\u001b[0;36m10\u001b[0m\u001b[0;34m,\u001b[0m\u001b[0;36m1\u001b[0m\u001b[0;34m)\u001b[0m\u001b[0;34m\u001b[0m\u001b[0m\n\u001b[0m",
      "\u001b[0;31mTypeError\u001b[0m: function_wrapper() takes exactly 1 argument (2 given)"
     ]
    }
   ],
   "source": [
    "def decorador(func):\n",
    "    def function_wrapper(x):\n",
    "        print(\"antes de llamar a \" + func.__name__)\n",
    "        print func(x) \n",
    "        print(\"despues de llamar a \" + func.__name__)\n",
    "    return function_wrapper\n",
    "\n",
    "@decorador\n",
    "def succ(n,i):\n",
    "    return n + i \n",
    "\n",
    "succ(10,1)"
   ]
  },
  {
   "cell_type": "code",
   "execution_count": 20,
   "metadata": {
    "collapsed": false,
    "deletable": true,
    "editable": true
   },
   "outputs": [
    {
     "name": "stdout",
     "output_type": "stream",
     "text": [
      "antes de llamar a succ\n",
      "20\n",
      "despues de llamar a succ\n"
     ]
    }
   ],
   "source": [
    "def decorador(func):\n",
    "    def function_wrapper(x,*args):\n",
    "        print(\"antes de llamar a \" + func.__name__)\n",
    "        print func(x,*args) \n",
    "        print(\"despues de llamar a \" + func.__name__)\n",
    "    return function_wrapper\n",
    "\n",
    "@decorador\n",
    "def succ(n,*args):\n",
    "    if args:\n",
    "        return n + sum(args)\n",
    "    else:\n",
    "        return n + 1 \n",
    "\n",
    "succ(10,1,2,3,4)"
   ]
  },
  {
   "cell_type": "markdown",
   "metadata": {
    "deletable": true,
    "editable": true
   },
   "source": [
    "En que casos se utilizan decoradores?\n",
    "\n",
    "* para revisar argumentos en funciones"
   ]
  },
  {
   "cell_type": "code",
   "execution_count": 24,
   "metadata": {
    "collapsed": false,
    "deletable": true,
    "editable": true
   },
   "outputs": [
    {
     "name": "stdout",
     "output_type": "stream",
     "text": [
      "2\n"
     ]
    }
   ],
   "source": [
    "def revisar_argumentos(func):\n",
    "    def wrapper(x,*args):\n",
    "        assert x >= 0, 'no se pueden utilizar numeros negativos'\n",
    "        print func(x,*args) \n",
    "    return wrapper\n",
    "\n",
    "@revisar_argumentos\n",
    "def succ(n,*args):\n",
    "    if args:\n",
    "        return n + sum(args)\n",
    "    else:\n",
    "        return n + 1 \n",
    "\n",
    "succ(1)"
   ]
  },
  {
   "cell_type": "markdown",
   "metadata": {
    "deletable": true,
    "editable": true
   },
   "source": [
    "* para contar cuantas veces se llama una funcion"
   ]
  },
  {
   "cell_type": "code",
   "execution_count": 25,
   "metadata": {
    "collapsed": false,
    "deletable": true,
    "editable": true
   },
   "outputs": [
    {
     "name": "stdout",
     "output_type": "stream",
     "text": [
      "0\n",
      "10\n"
     ]
    }
   ],
   "source": [
    "def call_counter(func):\n",
    "    def helper(x,*args):\n",
    "        helper.calls += 1\n",
    "        return func(x,*args)\n",
    "    helper.calls = 0\n",
    "\n",
    "    return helper\n",
    "\n",
    "@call_counter\n",
    "def succ(n,*args):\n",
    "    if args:\n",
    "        return n + sum(args)\n",
    "    else:\n",
    "        return n + 1 \n",
    "\n",
    "print(succ.calls)\n",
    "for i in range(10):\n",
    "    succ(i,1)\n",
    "    \n",
    "print(succ.calls)"
   ]
  },
  {
   "cell_type": "markdown",
   "metadata": {
    "deletable": true,
    "editable": true
   },
   "source": [
    "* para enforzar protocoles de autentificación y accesos\n",
    "* para medir el tiempo que corre una funcion\n",
    "* para controlar rate-limiting\n",
    "* para implementar input/output logging"
   ]
  },
  {
   "cell_type": "markdown",
   "metadata": {
    "deletable": true,
    "editable": true
   },
   "source": [
    "Los decoradores también pueden contener parametros"
   ]
  },
  {
   "cell_type": "code",
   "execution_count": 27,
   "metadata": {
    "collapsed": false,
    "deletable": true,
    "editable": true
   },
   "outputs": [
    {
     "name": "stdout",
     "output_type": "stream",
     "text": [
      "buenas noches Camila, pura vida!\n"
     ]
    }
   ],
   "source": [
    "def saludo_noche(func):\n",
    "    def wrapper(x):\n",
    "        print \"buenas noches \" + func(x)\n",
    "    return wrapper\n",
    "\n",
    "def saludo_dia(func):\n",
    "    def wrapper(x):\n",
    "        print \"buenos dias \" + func(x)\n",
    "    return wrapper\n",
    "\n",
    "@saludo_noche\n",
    "def saludo(x):\n",
    "    return x + \", pura vida!\"\n",
    "\n",
    "saludo('Camila')"
   ]
  },
  {
   "cell_type": "code",
   "execution_count": 29,
   "metadata": {
    "collapsed": false,
    "deletable": true,
    "editable": true
   },
   "outputs": [
    {
     "name": "stdout",
     "output_type": "stream",
     "text": [
      "buenas noches Camila, pura vida!\n"
     ]
    }
   ],
   "source": [
    "def saludo_decorado(expr):\n",
    "    def decorador(func):\n",
    "        def wrapper(x):\n",
    "            print expr + func(x)\n",
    "        return wrapper\n",
    "    return decorador\n",
    "        \n",
    "@saludo_decorado(\"buenas noches \")\n",
    "def saludo(x):\n",
    "    return x + \", pura vida!\"\n",
    "\n",
    "saludo('Camila')"
   ]
  },
  {
   "cell_type": "markdown",
   "metadata": {
    "deletable": true,
    "editable": true
   },
   "source": [
    "Y también se pueden utilizar más de un decorador en una funcion"
   ]
  },
  {
   "cell_type": "code",
   "execution_count": 36,
   "metadata": {
    "collapsed": false,
    "deletable": true,
    "editable": true
   },
   "outputs": [
    {
     "data": {
      "text/plain": [
       "'Hola Camila, pura vida! Adios'"
      ]
     },
     "execution_count": 36,
     "metadata": {},
     "output_type": "execute_result"
    }
   ],
   "source": [
    "def saludar(func):\n",
    "    def wrapper(x):\n",
    "        return 'Hola ' + func(x) ##\n",
    "    return wrapper\n",
    "\n",
    "def despedir(func):\n",
    "    def wrapper(x):\n",
    "        return func(x) + ' Adios' ##\n",
    "    return wrapper\n",
    "\n",
    "        \n",
    "@saludar\n",
    "@despedir\n",
    "def conversar(x):\n",
    "    return str(x + \", pura vida!\")\n",
    "\n",
    "conversar('Camila')"
   ]
  },
  {
   "cell_type": "code",
   "execution_count": 3,
   "metadata": {
    "collapsed": false,
    "deletable": true,
    "editable": true
   },
   "outputs": [
    {
     "name": "stdout",
     "output_type": "stream",
     "text": [
      "adentro de decorador.__init__()\n",
      "adentro de foo\n",
      "fin de decorar foo\n",
      "adentro de decorador.__call__()\n"
     ]
    }
   ],
   "source": [
    "class decorador(object):\n",
    "\n",
    "    def __init__(self, f):\n",
    "        print \"adentro de decorador.__init__()\"\n",
    "        f() # Prove that function definition has completed\n",
    "\n",
    "    def __call__(self):\n",
    "        print \"adentro de decorador.__call__()\"\n",
    "\n",
    "@decorador\n",
    "def foo():\n",
    "    print \"adentro de foo\"\n",
    "\n",
    "print \"fin de decorar foo\"\n",
    "\n",
    "foo()"
   ]
  }
 ],
 "metadata": {
  "kernelspec": {
   "display_name": "Python 2",
   "language": "python",
   "name": "python2"
  },
  "language_info": {
   "codemirror_mode": {
    "name": "ipython",
    "version": 2
   },
   "file_extension": ".py",
   "mimetype": "text/x-python",
   "name": "python",
   "nbconvert_exporter": "python",
   "pygments_lexer": "ipython2",
   "version": "2.7.11"
  }
 },
 "nbformat": 4,
 "nbformat_minor": 2
}
