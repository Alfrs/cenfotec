{
 "cells": [
  {
   "cell_type": "code",
   "execution_count": 6,
   "metadata": {},
   "outputs": [
    {
     "name": "stdout",
     "output_type": "stream",
     "text": [
      "Que es x:1\n",
      "x es : 1\n",
      "hola, como te llamas? a\n"
     ]
    },
    {
     "data": {
      "text/plain": [
       "'a'"
      ]
     },
     "execution_count": 6,
     "metadata": {},
     "output_type": "execute_result"
    }
   ],
   "source": [
    "x = input(\"Que es x:\")\n",
    "print(\"x es :\",x)\n",
    "input(\"hola, como te llamas? \")"
   ]
  },
  {
   "cell_type": "code",
   "execution_count": 7,
   "metadata": {},
   "outputs": [
    {
     "name": "stdout",
     "output_type": "stream",
     "text": [
      "Cual es tu edad?24\n"
     ]
    }
   ],
   "source": [
    "edad = int(input(\"Cual es tu edad?\"))"
   ]
  },
  {
   "cell_type": "code",
   "execution_count": 8,
   "metadata": {},
   "outputs": [
    {
     "data": {
      "text/plain": [
       "120"
      ]
     },
     "execution_count": 8,
     "metadata": {},
     "output_type": "execute_result"
    }
   ],
   "source": [
    "edad * 5"
   ]
  },
  {
   "cell_type": "code",
   "execution_count": 10,
   "metadata": {},
   "outputs": [
    {
     "name": "stdout",
     "output_type": "stream",
     "text": [
      "Cuales son tus paises favoritos? (Separados por una coma)Costa Rica, Peru, Noruega\n"
     ]
    }
   ],
   "source": [
    "paises = input(r\"Cuales son tus paises favoritos? (Separados por una coma)\")"
   ]
  },
  {
   "cell_type": "code",
   "execution_count": 11,
   "metadata": {},
   "outputs": [
    {
     "data": {
      "text/plain": [
       "['Costa Rica', ' Peru', ' Noruega']"
      ]
     },
     "execution_count": 11,
     "metadata": {},
     "output_type": "execute_result"
    }
   ],
   "source": [
    "paises.split(\",\")"
   ]
  },
  {
   "cell_type": "code",
   "execution_count": 13,
   "metadata": {},
   "outputs": [
    {
     "name": "stdout",
     "output_type": "stream",
     "text": [
      "Cuales son tus paises favoritos? (Separados por una coma)[\"COSTA RICA\",\"PERU\",\"NORUEGA\"]\n"
     ]
    }
   ],
   "source": [
    "paises = input(r\"Cuales son tus paises favoritos? (Separados por una coma)\")"
   ]
  },
  {
   "cell_type": "code",
   "execution_count": 14,
   "metadata": {},
   "outputs": [
    {
     "data": {
      "text/plain": [
       "['COSTA RICA', 'PERU', 'NORUEGA']"
      ]
     },
     "execution_count": 14,
     "metadata": {},
     "output_type": "execute_result"
    }
   ],
   "source": [
    "eval(paises)"
   ]
  },
  {
   "cell_type": "code",
   "execution_count": 18,
   "metadata": {},
   "outputs": [
    {
     "name": "stdout",
     "output_type": "stream",
     "text": [
      "Deme un numero del 1 al 1010\n",
      "Excelente! Vas a poder escoger 10 invitados para agregar a tu lista\n",
      "Cual seria el invitado #1a\n",
      "Cual seria el invitado #2b\n",
      "Cual seria el invitado #3c\n",
      "Cual seria el invitado #4d\n",
      "Cual seria el invitado #5e\n",
      "Cual seria el invitado #6f\n",
      "Cual seria el invitado #7g\n",
      "Cual seria el invitado #8h\n",
      "Cual seria el invitado #9i\n",
      "Cual seria el invitado #10j\n",
      "Esta es tu lista de invitados ['a', 'b', 'c', 'd', 'e', 'f', 'g', 'h', 'i', 'j']\n"
     ]
    }
   ],
   "source": [
    "nombres = []\n",
    "num_invitados = int(input(r\"Deme un numero del 1 al 10\"))\n",
    "print(r\"Excelente! Vas a poder escoger {} invitados para agregar a tu lista\".format(num_invitados))\n",
    "for i in range(num_invitados):\n",
    "    nombre = input(r\"Cual seria el invitado #{}\".format(i+1))\n",
    "    nombres.append(nombre)\n",
    "print(r\"Esta es tu lista de invitados %s\"%(nombres))"
   ]
  },
  {
   "cell_type": "markdown",
   "metadata": {},
   "source": [
    "# Enumerate"
   ]
  },
  {
   "cell_type": "code",
   "execution_count": 20,
   "metadata": {},
   "outputs": [
    {
     "name": "stdout",
     "output_type": "stream",
     "text": [
      "Andres\n",
      "Camila\n",
      "Alfredo\n",
      "Silvia\n"
     ]
    }
   ],
   "source": [
    "nombres = [\"Andres\",\"Camila\",\"Alfredo\",\"Silvia\"]\n",
    "for n in nombres:\n",
    "    print(n)"
   ]
  },
  {
   "cell_type": "code",
   "execution_count": 21,
   "metadata": {},
   "outputs": [
    {
     "name": "stdout",
     "output_type": "stream",
     "text": [
      "1. Andres\n",
      "2. Camila\n",
      "3. Alfredo\n",
      "4. Silvia\n"
     ]
    }
   ],
   "source": [
    "n = 1\n",
    "for nombre in nombres:\n",
    "    print(\"{n}. {nombre}\".format(n = n, nombre = nombre))\n",
    "    n+=1"
   ]
  },
  {
   "cell_type": "code",
   "execution_count": 22,
   "metadata": {},
   "outputs": [
    {
     "name": "stdout",
     "output_type": "stream",
     "text": [
      "1. Andres\n",
      "2. Camila\n",
      "3. Alfredo\n",
      "4. Silvia\n"
     ]
    }
   ],
   "source": [
    "for i in (range(len(nombres))):\n",
    "    print(\"{n}. {nombre}\".format(n = i+1, nombre = nombres[i]))"
   ]
  },
  {
   "cell_type": "code",
   "execution_count": 25,
   "metadata": {},
   "outputs": [
    {
     "data": {
      "text/plain": [
       "[(0, 'Andres'), (1, 'Camila'), (2, 'Alfredo'), (3, 'Silvia')]"
      ]
     },
     "execution_count": 25,
     "metadata": {},
     "output_type": "execute_result"
    }
   ],
   "source": [
    "list(enumerate(nombres))"
   ]
  },
  {
   "cell_type": "code",
   "execution_count": 26,
   "metadata": {},
   "outputs": [],
   "source": [
    "t = [\"alfredo\",\"rojas\",1993,10]\n",
    "nombre,apellido,fecha_nac,emocion = t"
   ]
  },
  {
   "cell_type": "code",
   "execution_count": 27,
   "metadata": {},
   "outputs": [
    {
     "data": {
      "text/plain": [
       "10"
      ]
     },
     "execution_count": 27,
     "metadata": {},
     "output_type": "execute_result"
    }
   ],
   "source": [
    "emocion"
   ]
  },
  {
   "cell_type": "code",
   "execution_count": 28,
   "metadata": {},
   "outputs": [
    {
     "name": "stdout",
     "output_type": "stream",
     "text": [
      "1. Andres\n",
      "2. Camila\n",
      "3. Alfredo\n",
      "4. Silvia\n"
     ]
    }
   ],
   "source": [
    "for index,value in enumerate(nombres):\n",
    "    print(\"{n}. {nombre}\".format(n = index+1, nombre = value))"
   ]
  },
  {
   "cell_type": "markdown",
   "metadata": {},
   "source": [
    "# Items"
   ]
  },
  {
   "cell_type": "code",
   "execution_count": 29,
   "metadata": {},
   "outputs": [],
   "source": [
    "data = {\n",
    "    \"nombre\":\"alfredo\",\n",
    "    \"apellido\":\"rojas\",\n",
    "    \"edad\":25\n",
    "}"
   ]
  },
  {
   "cell_type": "code",
   "execution_count": 31,
   "metadata": {},
   "outputs": [
    {
     "name": "stdout",
     "output_type": "stream",
     "text": [
      "nombre\n",
      "apellido\n",
      "edad\n"
     ]
    }
   ],
   "source": [
    "for item in data:\n",
    "    print(item)"
   ]
  },
  {
   "cell_type": "code",
   "execution_count": 33,
   "metadata": {},
   "outputs": [
    {
     "name": "stdout",
     "output_type": "stream",
     "text": [
      "0 nombre\n",
      "1 apellido\n",
      "2 edad\n"
     ]
    }
   ],
   "source": [
    "for index,value in enumerate(data):\n",
    "    print(index,value)"
   ]
  },
  {
   "cell_type": "code",
   "execution_count": 36,
   "metadata": {},
   "outputs": [
    {
     "name": "stdout",
     "output_type": "stream",
     "text": [
      "nombre | alfredo\n",
      "apellido | rojas\n",
      "edad | 25\n"
     ]
    }
   ],
   "source": [
    "for key,val in data.items():\n",
    "    print(\"{} | {}\".format(key,val))"
   ]
  },
  {
   "cell_type": "code",
   "execution_count": 39,
   "metadata": {},
   "outputs": [],
   "source": [
    "items = data.items()"
   ]
  },
  {
   "cell_type": "code",
   "execution_count": 40,
   "metadata": {},
   "outputs": [
    {
     "data": {
      "text/plain": [
       "[('nombre', 'alfredo'), ('apellido', 'rojas'), ('edad', 25)]"
      ]
     },
     "execution_count": 40,
     "metadata": {},
     "output_type": "execute_result"
    }
   ],
   "source": [
    "list(items)"
   ]
  },
  {
   "cell_type": "code",
   "execution_count": 41,
   "metadata": {},
   "outputs": [
    {
     "data": {
      "text/plain": [
       "dict_keys(['nombre', 'apellido', 'edad'])"
      ]
     },
     "execution_count": 41,
     "metadata": {},
     "output_type": "execute_result"
    }
   ],
   "source": [
    "data.keys()"
   ]
  },
  {
   "cell_type": "code",
   "execution_count": 42,
   "metadata": {},
   "outputs": [
    {
     "data": {
      "text/plain": [
       "dict_values(['alfredo', 'rojas', 25])"
      ]
     },
     "execution_count": 42,
     "metadata": {},
     "output_type": "execute_result"
    }
   ],
   "source": [
    "data.values()"
   ]
  },
  {
   "cell_type": "markdown",
   "metadata": {},
   "source": [
    "# Zip"
   ]
  },
  {
   "cell_type": "code",
   "execution_count": 43,
   "metadata": {},
   "outputs": [],
   "source": [
    "nombres = [\"Felipe\",\"Juan\",\"Pablo\",\"Jonathan\",\"Alfredo\"]\n",
    "apellidos = [\"Perez\",\"Arias\",\"Tejeda\",\"Amon\",\"Rojas\"]"
   ]
  },
  {
   "cell_type": "code",
   "execution_count": 44,
   "metadata": {},
   "outputs": [
    {
     "data": {
      "text/plain": [
       "<zip at 0x24266cf6b48>"
      ]
     },
     "execution_count": 44,
     "metadata": {},
     "output_type": "execute_result"
    }
   ],
   "source": [
    "zip(nombres,apellidos)"
   ]
  },
  {
   "cell_type": "code",
   "execution_count": 45,
   "metadata": {},
   "outputs": [
    {
     "data": {
      "text/plain": [
       "[('Felipe', 'Perez'),\n",
       " ('Juan', 'Arias'),\n",
       " ('Pablo', 'Tejeda'),\n",
       " ('Jonathan', 'Amon'),\n",
       " ('Alfredo', 'Rojas')]"
      ]
     },
     "execution_count": 45,
     "metadata": {},
     "output_type": "execute_result"
    }
   ],
   "source": [
    "list(zip(nombres,apellidos))"
   ]
  },
  {
   "cell_type": "code",
   "execution_count": 46,
   "metadata": {},
   "outputs": [
    {
     "name": "stdout",
     "output_type": "stream",
     "text": [
      "El nombre es Felipe y el apellido Perez\n",
      "El nombre es Juan y el apellido Arias\n",
      "El nombre es Pablo y el apellido Tejeda\n",
      "El nombre es Jonathan y el apellido Amon\n",
      "El nombre es Alfredo y el apellido Rojas\n"
     ]
    }
   ],
   "source": [
    "for nombre,apellido in zip(nombres,apellidos):\n",
    "    print(\"El nombre es {} y el apellido {}\".format(nombre,apellido))"
   ]
  },
  {
   "cell_type": "markdown",
   "metadata": {},
   "source": [
    "# IN"
   ]
  },
  {
   "cell_type": "code",
   "execution_count": 47,
   "metadata": {},
   "outputs": [
    {
     "data": {
      "text/plain": [
       "True"
      ]
     },
     "execution_count": 47,
     "metadata": {},
     "output_type": "execute_result"
    }
   ],
   "source": [
    "\"Alfredo\" in nombres"
   ]
  },
  {
   "cell_type": "markdown",
   "metadata": {},
   "source": [
    "# Random"
   ]
  },
  {
   "cell_type": "code",
   "execution_count": 48,
   "metadata": {},
   "outputs": [
    {
     "data": {
      "text/plain": [
       "3.141592653589793"
      ]
     },
     "execution_count": 48,
     "metadata": {},
     "output_type": "execute_result"
    }
   ],
   "source": [
    "import math\n",
    "math.pi"
   ]
  },
  {
   "cell_type": "code",
   "execution_count": 49,
   "metadata": {},
   "outputs": [],
   "source": [
    "import random\n",
    "random.shuffle(nombres)"
   ]
  },
  {
   "cell_type": "code",
   "execution_count": 50,
   "metadata": {},
   "outputs": [
    {
     "data": {
      "text/plain": [
       "['Felipe', 'Alfredo', 'Jonathan', 'Pablo', 'Juan']"
      ]
     },
     "execution_count": 50,
     "metadata": {},
     "output_type": "execute_result"
    }
   ],
   "source": [
    "nombres"
   ]
  },
  {
   "cell_type": "code",
   "execution_count": 53,
   "metadata": {},
   "outputs": [
    {
     "data": {
      "text/plain": [
       "43"
      ]
     },
     "execution_count": 53,
     "metadata": {},
     "output_type": "execute_result"
    }
   ],
   "source": [
    "random.randint(1,100)"
   ]
  },
  {
   "cell_type": "code",
   "execution_count": 54,
   "metadata": {},
   "outputs": [
    {
     "data": {
      "text/plain": [
       "9"
      ]
     },
     "execution_count": 54,
     "metadata": {},
     "output_type": "execute_result"
    }
   ],
   "source": [
    "def cuadrado(x):\n",
    "    return x**2\n",
    "\n",
    "cuadrado(3)"
   ]
  },
  {
   "cell_type": "code",
   "execution_count": 58,
   "metadata": {},
   "outputs": [
    {
     "data": {
      "text/plain": [
       "'Hola, me llamo Alfredo'"
      ]
     },
     "execution_count": 58,
     "metadata": {},
     "output_type": "execute_result"
    }
   ],
   "source": [
    "def decir_nombre(nombre):\n",
    "    return(\"Hola, me llamo {}\".format(nombre))\n",
    "    \n",
    "decir_nombre(\"Alfredo\")"
   ]
  },
  {
   "cell_type": "code",
   "execution_count": 60,
   "metadata": {},
   "outputs": [
    {
     "data": {
      "text/plain": [
       "3"
      ]
     },
     "execution_count": 60,
     "metadata": {},
     "output_type": "execute_result"
    }
   ],
   "source": [
    "def sumar_numeros(x,y):\n",
    "    return x+y\n",
    "\n",
    "resultado = sumar_numeros(1,2)\n",
    "resultado"
   ]
  },
  {
   "cell_type": "code",
   "execution_count": 62,
   "metadata": {},
   "outputs": [
    {
     "data": {
      "text/plain": [
       "True"
      ]
     },
     "execution_count": 62,
     "metadata": {},
     "output_type": "execute_result"
    }
   ],
   "source": [
    "def es_par(num):\n",
    "    return num % 2 == 0\n",
    "\n",
    "es_par(4)"
   ]
  },
  {
   "cell_type": "code",
   "execution_count": 63,
   "metadata": {},
   "outputs": [],
   "source": [
    "def es_primo(num):\n",
    "    for n in range(2,num):\n",
    "        if num%n == 0:\n",
    "            print(num,\"no es primo\")\n",
    "            return False\n",
    "            break\n",
    "        else:\n",
    "            print(num,\"es primo\")\n",
    "            return True"
   ]
  },
  {
   "cell_type": "code",
   "execution_count": 64,
   "metadata": {},
   "outputs": [
    {
     "name": "stdout",
     "output_type": "stream",
     "text": [
      "5  es primo\n"
     ]
    }
   ],
   "source": [
    "var = es_primo(5)"
   ]
  },
  {
   "cell_type": "code",
   "execution_count": 65,
   "metadata": {},
   "outputs": [
    {
     "data": {
      "text/plain": [
       "True"
      ]
     },
     "execution_count": 65,
     "metadata": {},
     "output_type": "execute_result"
    }
   ],
   "source": [
    "var"
   ]
  },
  {
   "cell_type": "code",
   "execution_count": 66,
   "metadata": {},
   "outputs": [
    {
     "name": "stdout",
     "output_type": "stream",
     "text": [
      "5  es primo\n",
      "Si, es primo\n"
     ]
    }
   ],
   "source": [
    "if es_primo(5):\n",
    "    print(\"Si, es primo\")"
   ]
  },
  {
   "cell_type": "code",
   "execution_count": 69,
   "metadata": {},
   "outputs": [
    {
     "name": "stdout",
     "output_type": "stream",
     "text": [
      "x = 50\n",
      "x = 2\n",
      "x global es: 50\n"
     ]
    }
   ],
   "source": [
    "x = 50\n",
    "def f(x):\n",
    "    print(\"x =\",x)\n",
    "    x = 2\n",
    "    print(\"x =\",x)\n",
    "\n",
    "f(x)\n",
    "print(\"x global es:\",x)"
   ]
  },
  {
   "cell_type": "code",
   "execution_count": 70,
   "metadata": {},
   "outputs": [],
   "source": [
    "def print_nombres(nombre,apellido,inverso = False):\n",
    "    '''\n",
    "    input:\n",
    "        nombre: str\n",
    "        apellido: str\n",
    "        inverso: bool (optional)\n",
    "    output:\n",
    "        devuelve los nombres\n",
    "    '''"
   ]
  },
  {
   "cell_type": "code",
   "execution_count": 71,
   "metadata": {},
   "outputs": [
    {
     "name": "stdout",
     "output_type": "stream",
     "text": [
      "(2, 3, 4, 5, 6, 7)\n"
     ]
    },
    {
     "data": {
      "text/plain": [
       "27"
      ]
     },
     "execution_count": 71,
     "metadata": {},
     "output_type": "execute_result"
    }
   ],
   "source": [
    "def mi_func(*args):\n",
    "    print(args)\n",
    "    return sum(args)\n",
    "\n",
    "mi_func(2,3,4,5,6,7)"
   ]
  },
  {
   "cell_type": "code",
   "execution_count": null,
   "metadata": {},
   "outputs": [],
   "source": []
  }
 ],
 "metadata": {
  "kernelspec": {
   "display_name": "Python 3",
   "language": "python",
   "name": "python3"
  },
  "language_info": {
   "codemirror_mode": {
    "name": "ipython",
    "version": 3
   },
   "file_extension": ".py",
   "mimetype": "text/x-python",
   "name": "python",
   "nbconvert_exporter": "python",
   "pygments_lexer": "ipython3",
   "version": "3.7.0"
  }
 },
 "nbformat": 4,
 "nbformat_minor": 2
}
