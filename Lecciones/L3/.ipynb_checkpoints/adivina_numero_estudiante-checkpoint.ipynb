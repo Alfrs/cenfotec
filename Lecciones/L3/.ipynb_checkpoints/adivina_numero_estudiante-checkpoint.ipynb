{
 "cells": [
  {
   "cell_type": "markdown",
   "metadata": {},
   "source": [
    "# Vamos a Programar un juego"
   ]
  },
  {
   "cell_type": "markdown",
   "metadata": {},
   "source": [
    "**Instrucciones:**\n",
    "\n",
    "Crear un programa que selecciona un número del 1 al 100 y le pide al jugador que adivine el número. \n",
    "\n",
    "Reglas del juego:\n",
    "    1. Si el jugador ingresa un número superior a 100 o menor a 1, se debe imprimr una advertencia\n",
    "    2. Si en el primer turno el jugador adivina y está a 10 numeros de distancia de la respuesta debe indicarle al jugador que está cerca. Sino debe indicarle que está lejos.\n",
    "    3. Si el jugador adivina y se acerca al número debe indicarse \"te estas acercando\" de lo contrario \"te estas alejando\"\n",
    "    4. Si el jugador adivina el número se le debe indicar que acertó y se le debe decir en cuántos turnos logró el resultado.\n",
    "    5. El juego debe iniciar con una introducción al juego y con las instrucciones"
   ]
  },
  {
   "cell_type": "code",
   "execution_count": 2,
   "metadata": {},
   "outputs": [
    {
     "data": {
      "text/plain": [
       "53"
      ]
     },
     "execution_count": 2,
     "metadata": {},
     "output_type": "execute_result"
    }
   ],
   "source": [
    "from random import randint\n",
    "num = randint(1,100)"
   ]
  },
  {
   "cell_type": "code",
   "execution_count": null,
   "metadata": {},
   "outputs": [],
   "source": []
  }
 ],
 "metadata": {
  "kernelspec": {
   "display_name": "Python 3",
   "language": "python",
   "name": "python3"
  },
  "language_info": {
   "codemirror_mode": {
    "name": "ipython",
    "version": 3
   },
   "file_extension": ".py",
   "mimetype": "text/x-python",
   "name": "python",
   "nbconvert_exporter": "python",
   "pygments_lexer": "ipython3",
   "version": "3.7.0"
  }
 },
 "nbformat": 4,
 "nbformat_minor": 2
}
