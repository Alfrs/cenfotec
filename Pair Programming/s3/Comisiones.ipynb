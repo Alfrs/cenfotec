{
 "cells": [
  {
   "cell_type": "markdown",
   "metadata": {},
   "source": [
    "# Calculo de comisiones\n",
    "\n",
    "Cargue el archivo llamado \"ventas.csv\" y analicelo\n",
    "\n",
    "La comisión de cada vendedor corresponde al 6.25% sobre las utilidades generadas por el vendedor, desarrolle un programa que calcule la utilidad y la comisión de cada vendedor por tipo de producto. \n",
    "\n",
    "Por ejemplo: \n",
    "\n",
    "Input:\n",
    "\n",
    "| id_transaccion | id_producto | nombre_producto | id_vendedor | nombre_vendedor | monto_transaccion | gastos |\n",
    "|----------------|-------------|-----------------|-------------|-----------------|-------------------|--------|\n",
    "| 1| 1 | producto 1 | 1 | nombre 1 | 10 | 5 |\n",
    "| 2| 1 | producto 1 | 1 | nombre 1 | 10 | 6 |\n",
    "| 3| 2 | producto 2 | 1 | nombre 1 | 15 | 9 |\n",
    "| 4| 2 | producto 2 | 1 | nombre 1 | 15 | 12|\n",
    "| 1| 1 | producto 1 | 2 | nombre 2 | 10 | 3 |\n",
    "| 2| 1 | producto 2 | 2 | nombre 2 | 15 | 6 |\n",
    "| 3| 2 | producto 2 | 2 | nombre 2 | 15 | 5 |\n",
    "| 4| 2 | producto 2 | 2 | nombre 2 | 15 | 10|\n",
    "\n",
    "Output:\n",
    "\n",
    "| producto | nombre 1 | nombre 2 |\n",
    "|----------|----------|----------|\n",
    "| producto 1 | 0.625 | 0.4375 |\n",
    "| procucto 2 | 0.625 | 1.5 |\n",
    "\n"
   ]
  },
  {
   "cell_type": "code",
   "execution_count": null,
   "metadata": {},
   "outputs": [],
   "source": []
  },
  {
   "cell_type": "code",
   "execution_count": null,
   "metadata": {},
   "outputs": [],
   "source": []
  },
  {
   "cell_type": "code",
   "execution_count": null,
   "metadata": {},
   "outputs": [],
   "source": []
  },
  {
   "cell_type": "code",
   "execution_count": null,
   "metadata": {},
   "outputs": [],
   "source": []
  },
  {
   "cell_type": "code",
   "execution_count": null,
   "metadata": {},
   "outputs": [],
   "source": []
  },
  {
   "cell_type": "code",
   "execution_count": null,
   "metadata": {},
   "outputs": [],
   "source": []
  },
  {
   "cell_type": "code",
   "execution_count": null,
   "metadata": {},
   "outputs": [],
   "source": []
  },
  {
   "cell_type": "code",
   "execution_count": null,
   "metadata": {},
   "outputs": [],
   "source": []
  },
  {
   "cell_type": "code",
   "execution_count": null,
   "metadata": {},
   "outputs": [],
   "source": []
  },
  {
   "cell_type": "code",
   "execution_count": null,
   "metadata": {},
   "outputs": [],
   "source": []
  },
  {
   "cell_type": "code",
   "execution_count": null,
   "metadata": {},
   "outputs": [],
   "source": []
  },
  {
   "cell_type": "code",
   "execution_count": null,
   "metadata": {},
   "outputs": [],
   "source": [
    "\n",
    "    "
   ]
  },
  {
   "cell_type": "code",
   "execution_count": null,
   "metadata": {},
   "outputs": [],
   "source": []
  },
  {
   "cell_type": "code",
   "execution_count": null,
   "metadata": {},
   "outputs": [],
   "source": []
  },
  {
   "cell_type": "code",
   "execution_count": null,
   "metadata": {},
   "outputs": [],
   "source": []
  },
  {
   "cell_type": "code",
   "execution_count": null,
   "metadata": {},
   "outputs": [],
   "source": []
  }
 ],
 "metadata": {
  "kernelspec": {
   "display_name": "Python 3",
   "language": "python",
   "name": "python3"
  },
  "language_info": {
   "codemirror_mode": {
    "name": "ipython",
    "version": 3
   },
   "file_extension": ".py",
   "mimetype": "text/x-python",
   "name": "python",
   "nbconvert_exporter": "python",
   "pygments_lexer": "ipython3",
   "version": "3.6.3"
  }
 },
 "nbformat": 4,
 "nbformat_minor": 2
}
