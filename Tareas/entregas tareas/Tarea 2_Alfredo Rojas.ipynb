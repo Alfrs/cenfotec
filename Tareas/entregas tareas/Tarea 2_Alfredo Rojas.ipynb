{
 "cells": [
  {
   "cell_type": "markdown",
   "metadata": {},
   "source": [
    "## Ejercicio 1: Manipular Archivos\n",
    "\n",
    "Dentro de este mismo directorio se encuentra un archivo que se llama \"tarea2.txt\". Ese archivo contiene información sobre 5 estudiantes y sus respectivas notas para 5 examenes.\n",
    "\n",
    "Cada linea tiene la siguiente estructura: nombre_estudiante: nota_examen1 nota_examen2 nota_examen3 nota_examen4 nota_examen5\n",
    "\n",
    "Escriban un programa que genere un archivo nuevo donde contenga en nombre de cada estudiante y su respectiva nota promedio de esos 5 examenes.\n",
    "\n",
    "La estrucutra de cada linea en el nuevo archivo debería de ser: nombre_estudiante: nota_promedio\n",
    "\n",
    "* utiliazar la metodologia de \"with\" para abrir el archivo\n"
   ]
  },
  {
   "cell_type": "code",
   "execution_count": 123,
   "metadata": {},
   "outputs": [],
   "source": [
    "## Respuesta Ejercicio 1\n",
    "student_dict = {}\n",
    "final_dict = {}\n",
    "with open(r\"tarea2.txt\") as file:\n",
    "    student_list = file.readlines()\n",
    "for line in student_list:\n",
    "    student_dict[line.split(\":\")[0]] = ((line.split(\":\")[1]).strip()).split(\" \")\n",
    "for key,val in student_dict.items():\n",
    "    final_dict[key] = (sum(int(v) for v in val)/5)\n",
    "\n",
    "with open(r\"promedio.txt\",'w') as file:\n",
    "    for key,val in final_dict.items():\n",
    "        string = key+': '+str(val)+'\\n'\n",
    "        file.write(string)"
   ]
  },
  {
   "cell_type": "markdown",
   "metadata": {},
   "source": [
    "## Ejercicio 2: Manipular Archivos\n",
    "\n",
    "Dentro de este mismo directorio se encuentra un archivo que se llama \"introduccion.txt\". Este archivo contiene tres lineas con frases donde faltan palabras para rellenar. La posicion donde deberían de rellenar las palabras estan marcadas con [ ]. \n",
    "\n",
    "Para este ejercicio deberán de leer el archivo, y escribir sobre el mismo archivo cada vez que pasen por un [ ] con una palabra que complete la frase.\n",
    "\n",
    "* utiliazar la metodologia de \"with\" para abrir el archivo"
   ]
  },
  {
   "cell_type": "code",
   "execution_count": 148,
   "metadata": {},
   "outputs": [
    {
     "name": "stdout",
     "output_type": "stream",
     "text": [
      "Hola Mundo! Mi nombre es Alfredo y tengo 24 años. \n",
      "Estoy llevando este curso para Analisis de datos. \n",
      "En la segunda clase aprendimos sobre Listas y Archivos. \n"
     ]
    }
   ],
   "source": [
    "## Respuesta Ejercicio 2\n",
    "with open(r\"introduccion.txt\") as file:\n",
    "    text = file.read()\n",
    "text = text.replace('[]','%s')\n",
    "text = text % ('Alfredo','24','Analisis de datos','Listas','Archivos')\n",
    "print(text.replace('Ã±','ñ'))"
   ]
  },
  {
   "cell_type": "markdown",
   "metadata": {},
   "source": [
    "## Ejercicio 3: Sentencias Condicionales y Loops\n",
    "\n",
    "Crear un programa que revise si un código ISBN-10 es valido o no. Un códifo ISBN-10 consiste de 10 characteres donde todos son digitos del 0-9, a excepción del último que puede ser un digito o la letra X (que equivale al numero 10). La formula para chequear si es un código valido es la siguiente:\n",
    "\n",
    "(x*1 + x*2 + x*3 + x*4 + x*5 + x*6 + x*7 + x*8 + x*9 + x*10) % 11 == 0\n",
    "\n",
    "donde x representa el digito cuando se itera sobre el ISBN-10 de izquierda a derecha."
   ]
  },
  {
   "cell_type": "code",
   "execution_count": 162,
   "metadata": {},
   "outputs": [
    {
     "name": "stdout",
     "output_type": "stream",
     "text": [
      "El codigo es valido\n"
     ]
    }
   ],
   "source": [
    "## Respuesta Ejercicio 3\n",
    "ISBN10 = '0136091814' #Valid\n",
    "#ISBN10 = '0136091812' #Invalid\n",
    "sum_check = 0\n",
    "for x in ISBN10.upper():\n",
    "    if x == 'X':\n",
    "        sum_check += 10\n",
    "        ISBN10.replace('X',\"\")\n",
    "    else:\n",
    "        sum_check += int(x)\n",
    "if sum_check % 11 == 0:\n",
    "    print('El codigo es valido')\n",
    "else:\n",
    "    print('El codigo no es valido')"
   ]
  },
  {
   "cell_type": "markdown",
   "metadata": {},
   "source": [
    "## Ejercicio 4: List Comprehension\n",
    "\n",
    "Para los siguientes ejercicos tienen que crear una lista o un diccionario nuevo utilizando la metodología de list comprehension.\n",
    "\n",
    "a. Crear una lista de todos los numeros del 1-1000, incluyendo ambos, que sean divisibles entre 7.\n",
    "\n",
    "b. Eliminar todas las vocales de un string.\n",
    "\n",
    "c. Crear un diccionario a partir de un string que contiene una frase. Para cada palabra en la frase crear un key,value pair tuple donde el key sea equivalente a la palabra (string) y el value sea equivalente al largo de la plabra (int). "
   ]
  },
  {
   "cell_type": "code",
   "execution_count": 3,
   "metadata": {},
   "outputs": [
    {
     "name": "stdout",
     "output_type": "stream",
     "text": [
      "[0, 7, 14, 21, 28, 35, 42, 49, 56, 63, 70, 77, 84, 91, 98, 105, 112, 119, 126, 133, 140, 147, 154, 161, 168, 175, 182, 189, 196, 203, 210, 217, 224, 231, 238, 245, 252, 259, 266, 273, 280, 287, 294, 301, 308, 315, 322, 329, 336, 343, 350, 357, 364, 371, 378, 385, 392, 399, 406, 413, 420, 427, 434, 441, 448, 455, 462, 469, 476, 483, 490, 497, 504, 511, 518, 525, 532, 539, 546, 553, 560, 567, 574, 581, 588, 595, 602, 609, 616, 623, 630, 637, 644, 651, 658, 665, 672, 679, 686, 693, 700, 707, 714, 721, 728, 735, 742, 749, 756, 763, 770, 777, 784, 791, 798, 805, 812, 819, 826, 833, 840, 847, 854, 861, 868, 875, 882, 889, 896, 903, 910, 917, 924, 931, 938, 945, 952, 959, 966, 973, 980, 987, 994]\n",
      "ptt\n"
     ]
    },
    {
     "ename": "NameError",
     "evalue": "name 'tup' is not defined",
     "output_type": "error",
     "traceback": [
      "\u001b[1;31m---------------------------------------------------------------------------\u001b[0m",
      "\u001b[1;31mNameError\u001b[0m                                 Traceback (most recent call last)",
      "\u001b[1;32m<ipython-input-3-5d03d1e9e995>\u001b[0m in \u001b[0;36m<module>\u001b[1;34m()\u001b[0m\n\u001b[0;32m     15\u001b[0m \u001b[0mword_list\u001b[0m \u001b[1;33m=\u001b[0m \u001b[0mstring\u001b[0m\u001b[1;33m.\u001b[0m\u001b[0msplit\u001b[0m\u001b[1;33m(\u001b[0m\u001b[1;34m\" \"\u001b[0m\u001b[1;33m)\u001b[0m\u001b[1;33m\u001b[0m\u001b[0m\n\u001b[0;32m     16\u001b[0m \u001b[0mans_list\u001b[0m \u001b[1;33m=\u001b[0m \u001b[1;33m[\u001b[0m\u001b[1;33m]\u001b[0m\u001b[1;33m\u001b[0m\u001b[0m\n\u001b[1;32m---> 17\u001b[1;33m \u001b[0mfinal_dict\u001b[0m \u001b[1;33m=\u001b[0m \u001b[1;33m{\u001b[0m\u001b[0mlen\u001b[0m\u001b[1;33m(\u001b[0m\u001b[0mword\u001b[0m\u001b[1;33m)\u001b[0m\u001b[1;33m:\u001b[0m\u001b[0mtup\u001b[0m\u001b[1;33m(\u001b[0m\u001b[0mword\u001b[0m\u001b[1;33m)\u001b[0m \u001b[1;32mfor\u001b[0m \u001b[0mword\u001b[0m \u001b[1;32min\u001b[0m \u001b[0mword_list\u001b[0m\u001b[1;33m}\u001b[0m\u001b[1;33m\u001b[0m\u001b[0m\n\u001b[0m\u001b[0;32m     18\u001b[0m \u001b[0mfinal_dict\u001b[0m\u001b[1;33m\u001b[0m\u001b[0m\n",
      "\u001b[1;32m<ipython-input-3-5d03d1e9e995>\u001b[0m in \u001b[0;36m<dictcomp>\u001b[1;34m(.0)\u001b[0m\n\u001b[0;32m     15\u001b[0m \u001b[0mword_list\u001b[0m \u001b[1;33m=\u001b[0m \u001b[0mstring\u001b[0m\u001b[1;33m.\u001b[0m\u001b[0msplit\u001b[0m\u001b[1;33m(\u001b[0m\u001b[1;34m\" \"\u001b[0m\u001b[1;33m)\u001b[0m\u001b[1;33m\u001b[0m\u001b[0m\n\u001b[0;32m     16\u001b[0m \u001b[0mans_list\u001b[0m \u001b[1;33m=\u001b[0m \u001b[1;33m[\u001b[0m\u001b[1;33m]\u001b[0m\u001b[1;33m\u001b[0m\u001b[0m\n\u001b[1;32m---> 17\u001b[1;33m \u001b[0mfinal_dict\u001b[0m \u001b[1;33m=\u001b[0m \u001b[1;33m{\u001b[0m\u001b[0mlen\u001b[0m\u001b[1;33m(\u001b[0m\u001b[0mword\u001b[0m\u001b[1;33m)\u001b[0m\u001b[1;33m:\u001b[0m\u001b[0mtup\u001b[0m\u001b[1;33m(\u001b[0m\u001b[0mword\u001b[0m\u001b[1;33m)\u001b[0m \u001b[1;32mfor\u001b[0m \u001b[0mword\u001b[0m \u001b[1;32min\u001b[0m \u001b[0mword_list\u001b[0m\u001b[1;33m}\u001b[0m\u001b[1;33m\u001b[0m\u001b[0m\n\u001b[0m\u001b[0;32m     18\u001b[0m \u001b[0mfinal_dict\u001b[0m\u001b[1;33m\u001b[0m\u001b[0m\n",
      "\u001b[1;31mNameError\u001b[0m: name 'tup' is not defined"
     ]
    }
   ],
   "source": [
    "## Respuesta Ejercicio 4\n",
    "# a.\n",
    "temp_list = list(range(0,1001))\n",
    "final_list = [x for x in temp_list if x % 7 == 0]\n",
    "print(final_list)\n",
    "\n",
    "#b.\n",
    "vwls = ['a','i','u','e','o']\n",
    "string = 'patito'\n",
    "final_string = ''.join(x for x in string if x.lower() not in vwls)\n",
    "print(final_string)\n",
    "\n",
    "#c.\n",
    "string = \"Aca va una frase\"\n",
    "word_list = string.split(\" \")\n",
    "ans_list = []\n",
    "final_dict = {len(word):tuple(word) for word in word_list}\n",
    "final_dict"
   ]
  },
  {
   "cell_type": "markdown",
   "metadata": {},
   "source": [
    "## Ejercicio 5: Loops\n",
    "\n",
    "Escribir un programa que imprima lo siguiente:\n",
    "\n",
    "\\*\n",
    "\n",
    "\\*\\*\n",
    "\n",
    "\\*\\*\\*\n",
    "\n",
    "\\*\\*\\*\\*\n",
    "\n",
    "\\*\\*\\*\\*\\*\n",
    "\n",
    "\\*\\*\\*\\*\n",
    "\n",
    "\\*\\*\\*\n",
    "\n",
    "\\*\\*\n",
    "\n",
    "\\*\n",
    "\n",
    "* Hint: Utilizar nested loops, no hacen falta sentencias condicionales."
   ]
  },
  {
   "cell_type": "code",
   "execution_count": 1,
   "metadata": {},
   "outputs": [],
   "source": [
    "# Respuesta Ejercicio 5\n"
   ]
  }
 ],
 "metadata": {
  "kernelspec": {
   "display_name": "Python 3",
   "language": "python",
   "name": "python3"
  },
  "language_info": {
   "codemirror_mode": {
    "name": "ipython",
    "version": 3
   },
   "file_extension": ".py",
   "mimetype": "text/x-python",
   "name": "python",
   "nbconvert_exporter": "python",
   "pygments_lexer": "ipython3",
   "version": "3.7.0"
  }
 },
 "nbformat": 4,
 "nbformat_minor": 2
}
