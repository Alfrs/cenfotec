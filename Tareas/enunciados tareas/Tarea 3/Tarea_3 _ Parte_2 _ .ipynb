{
 "cells": [
  {
   "cell_type": "markdown",
   "metadata": {},
   "source": [
    "\n",
    "# Ejercicio 2: Muertes por armas\n",
    "\n",
    "El documento que se llama \"guns.csv\" contiene información sobre muertes por armas en EEUU. Vamos a crear funciones que nos ayuden a analizar los datos, a utilizar más de una base de datos y a practicar trabajar con fechas. Los datos son los siguientes: \n",
    "\n",
    "- ```year:``` Año en que ocurrió\n",
    "\n",
    "- ```month:``` mes en que ocurrió\n",
    "\n",
    "- ```intent:``` tipo de crimen\n",
    "\n",
    "- ```police:``` si involucró un policía\n",
    "\n",
    "- ```sex:``` genero de la víctima\n",
    "\n",
    "- ```age:``` edad de la víctima\n",
    "\n",
    "- ```race:``` raza de la víctima\n",
    "\n",
    "- ```hispanic:``` indica el origen hispánico de la victima\n",
    "\n",
    "- ```place:``` lugar donde ocurrió\n",
    "\n",
    "- ```educación:``` 1: menos que secundaria, 2: graduado de secundaria, 3: algo de universidad, 4: graduado de universidad, 5: no se cuenta con la información\n",
    "\n"
   ]
  },
  {
   "cell_type": "markdown",
   "metadata": {},
   "source": [
    "#### 1. Importar los datos\n",
    "Crear una función que importe un csv, para este ejercicio puede utilizar la librería csv de Python. Para cargar  el directorio actual en el que nos encontramos podemos utilizar los \"magic functions\" de jupyter. En este caso si utilizamos %pwd podemos guardar el directorio en un avariable para utilizarlo después. "
   ]
  },
  {
   "cell_type": "code",
   "execution_count": 1,
   "metadata": {},
   "outputs": [],
   "source": [
    "import csv"
   ]
  },
  {
   "cell_type": "code",
   "execution_count": 3,
   "metadata": {},
   "outputs": [],
   "source": [
    "path = r\"./datasets/guns.csv\"\n",
    "def import_csv(path):\n",
    "    with open(path,\"r\") as file:\n",
    "        reader = csv.reader(file)\n",
    "        raw_data = list(reader)\n",
    "    return raw_data"
   ]
  },
  {
   "cell_type": "markdown",
   "metadata": {},
   "source": [
    "#### 2. Separar los encabezados\n",
    "Separar los encabezados del resto de los datos para usarlos para el análisis"
   ]
  },
  {
   "cell_type": "code",
   "execution_count": 6,
   "metadata": {},
   "outputs": [],
   "source": [
    "def get_headers(raw_data):\n",
    "    headers = raw_data[0]\n",
    "    clean_data = raw_data[1:]\n",
    "    return headers,clean_data"
   ]
  },
  {
   "cell_type": "markdown",
   "metadata": {},
   "source": [
    "#### 3. Contar las muertes por año\n",
    "Escriba una función que reciba una lista de datos y devuelva los conteos de cada ítem en la lista, calcule los conteos por año y los conteos por género y raza. "
   ]
  },
  {
   "cell_type": "code",
   "execution_count": 11,
   "metadata": {},
   "outputs": [],
   "source": [
    "def deaths_by_year(data):\n",
    "    years = [row[1] for row in data]\n",
    "    year_count = {}\n",
    "    for yr in years:\n",
    "        if yr not in year_count:\n",
    "            year_count[yr] = 1\n",
    "        else:\n",
    "            year_count[yr] += 1\n",
    "    return year_count"
   ]
  },
  {
   "cell_type": "code",
   "execution_count": 13,
   "metadata": {},
   "outputs": [
    {
     "data": {
      "text/plain": [
       "{'2012': 33563, '2013': 33636, '2014': 33599}"
      ]
     },
     "execution_count": 13,
     "metadata": {},
     "output_type": "execute_result"
    }
   ],
   "source": []
  },
  {
   "cell_type": "markdown",
   "metadata": {},
   "source": [
    "#### 4. Verificar si existen tendencias por género y raza\n",
    "Describa en una celda de markup lo nota de los resultados obtenidos hasta el momento. "
   ]
  },
  {
   "cell_type": "code",
   "execution_count": 18,
   "metadata": {},
   "outputs": [],
   "source": [
    "def gender_tendency(data):\n",
    "    genders = [row[5] for row in data]\n",
    "    gender_counts = {}\n",
    "    for gender in genders:\n",
    "        if gender not in gender_counts:\n",
    "            gender_counts[gender] = 0\n",
    "        gender_counts[gender] += 1\n",
    "    return gender_counts"
   ]
  },
  {
   "cell_type": "code",
   "execution_count": 21,
   "metadata": {},
   "outputs": [],
   "source": [
    "def race_tendency(data):\n",
    "    races = [row[7] for row in data]\n",
    "    race_counts = {}\n",
    "    for race in races:\n",
    "        if race not in race_counts:\n",
    "            race_counts[race] = 0\n",
    "        race_counts[race] += 1\n",
    "    return race_counts"
   ]
  },
  {
   "cell_type": "markdown",
   "metadata": {},
   "source": [
    "##### Deaths by Year:\n",
    "{'2012': 33563, '2013': 33636, '2014': 33599}\n",
    "##### Gender Tendency:\n",
    "{'M': 86349, 'F': 14449}\n",
    "##### Race Tendency:\n",
    "{'Asian/Pacific Islander': 1326, 'White': 66237, 'Native American/Native Alaskan': 917, 'Black': 23296, 'Hispanic': 9022}"
   ]
  },
  {
   "cell_type": "markdown",
   "metadata": {},
   "source": [
    "#### 5. Formula para separar columnas\n",
    "\n",
    "Crear una función que reciba los datos y devuelva una lista de columnas, esto corresponde a transponer los datos. "
   ]
  },
  {
   "cell_type": "code",
   "execution_count": 34,
   "metadata": {},
   "outputs": [],
   "source": [
    "def data_traspose(data):\n",
    "    t_data = zip(data)\n",
    "    f_data = []\n",
    "    for x in t_data:\n",
    "        f_data.append(x)\n",
    "    return f_data"
   ]
  },
  {
   "cell_type": "markdown",
   "metadata": {},
   "source": [
    "#### 6. Cargar datos de Censo\n",
    "\n",
    "Crear otra variable que cargue los datos del documento \"census.csv\""
   ]
  },
  {
   "cell_type": "code",
   "execution_count": 36,
   "metadata": {},
   "outputs": [],
   "source": [
    "path = r\"./datasets/census.csv\"\n",
    "census = import_csv(path)"
   ]
  },
  {
   "cell_type": "markdown",
   "metadata": {},
   "source": [
    "#### 7. Eventos por cada 100 000 habitantes\n",
    "\n",
    "Cree una función que calcule la proporción de eventos por raza por cada 100 000 habitantes. "
   ]
  },
  {
   "cell_type": "markdown",
   "metadata": {},
   "source": [
    "Primero creamos un diccionario de equivalencias apra que tenga sentido el cálculo:\n",
    "\n",
    "````mapping = {\n",
    "    'Asian/Pacific Islander': 674625 + 15159516 ,\n",
    "     'Black': 40250635,\n",
    "     'Hispanic': 44618105,\n",
    "     'Native American/Native Alaskan': 3739506,\n",
    "     'White': 197318956\n",
    "}````\n"
   ]
  },
  {
   "cell_type": "code",
   "execution_count": 37,
   "metadata": {},
   "outputs": [],
   "source": [
    "mapping = {\n",
    "    'Asian/Pacific Islander': 674625 + 15159516 ,\n",
    "     'Black': 40250635,\n",
    "     'Hispanic': 44618105,\n",
    "     'Native American/Native Alaskan': 3739506,\n",
    "     'White': 197318956\n",
    "}"
   ]
  },
  {
   "cell_type": "code",
   "execution_count": null,
   "metadata": {},
   "outputs": [],
   "source": []
  },
  {
   "cell_type": "markdown",
   "metadata": {},
   "source": [
    "#### 8. Filtrar por motivo\n",
    "Crear una función que calcule las proporciones de crímines por cada 100 000 habitantes y que filtre el resultado por motivo. En otras palabras, que se presenten los datos por cada raza de el motivo del incidente (cantidad de personas blancas que cometieron un crimen de con el motivo de homicidio). "
   ]
  },
  {
   "cell_type": "code",
   "execution_count": null,
   "metadata": {},
   "outputs": [],
   "source": [
    "intent = set(intent)\n",
    "print(intent)"
   ]
  },
  {
   "cell_type": "code",
   "execution_count": null,
   "metadata": {},
   "outputs": [],
   "source": [
    "def crimes_per_capita(race):\n",
    "    count_sui = 0\n",
    "    count_hom = 0\n",
    "    count_acc = 0\n",
    "    count_und = 0\n",
    "    count_na  = 0\n",
    "    for obs in raw_data:\n",
    "        if obs[7] == race:\n",
    "            if obs[3] == 'Suicide':\n",
    "                count_sui += 1\n",
    "            elif obs[3] == 'Homicide':\n",
    "                count_hom += 1\n",
    "            elif obs[3] == 'Accidental':\n",
    "                count_acc += 1\n",
    "            elif obs[3] == 'Undetermined':\n",
    "                count_und += 1\n",
    "            elif obs[3] == 'NA':\n",
    "                count_na += 1\n",
    "    \n",
    "    per_cap_sui = (count_sui / mapping[race]) * 100000\n",
    "    per_cap_hom = (count_hom / mapping[race]) * 100000\n",
    "    per_cap_acc = (count_acc / mapping[race]) * 100000\n",
    "    per_cap_und = (count_und / mapping[race]) * 100000\n",
    "    per_cap_na  = (count_na  / mapping[race]) * 100000\n",
    "    \n",
    "    print('Entre 2012 y 2014, por motivos de suicidio, en la raza {} murieron {} por cada 100.000 habitantes'.format(race,round(per_cap_sui,2)))\n",
    "    print('Entre 2012 y 2014, por motivos de homicidio, en la raza {} murieron {} por cada 100.000 habitantes'.format(race,round(per_cap_hom,2)))\n",
    "    print('Entre 2012 y 2014, por motivos accidentales, en la raza {} murieron {} por cada 100.000 habitantes'.format(race,round(per_cap_acc,2)))\n",
    "    print('Entre 2012 y 2014, por motivos desconocidas, en la raza {} murieron {} por cada 100.000 habitantes'.format(race,round(per_cap_und,2)))\n",
    "    print('Entre 2012 y 2014, no se tiene informacion, en la raza {} murieron {} por cada 100.000 habitantes'.format(race,round(per_cap_na,2)))\n",
    "    \n",
    "crimes_per_capita(\"Black\")"
   ]
  },
  {
   "cell_type": "markdown",
   "metadata": {},
   "source": [
    "####  9. Analizando más allá\n",
    "\n",
    "Responda las siguientes preguntas con los datos, tods las respuestas deben venir acompañadas por una celda Markup en la que se explique su análisis."
   ]
  },
  {
   "cell_type": "markdown",
   "metadata": {},
   "source": [
    "##### a. ¿Existe una relación entre el mes en que se comete el crimen y la proporción de homicidios?"
   ]
  },
  {
   "cell_type": "code",
   "execution_count": null,
   "metadata": {},
   "outputs": [],
   "source": [
    "months = set(month)\n",
    "count_01 = 0\n",
    "count_02 = 0\n",
    "count_03 = 0\n",
    "count_04 = 0\n",
    "count_05 = 0\n",
    "count_06 = 0\n",
    "count_07 = 0\n",
    "count_08 = 0\n",
    "count_09 = 0\n",
    "count_10 = 0\n",
    "count_11 = 0\n",
    "count_12 = 0\n",
    "\n",
    "for mes in raw_data:\n",
    "    count_01 = count_01 + 1 if mes[2] == '01' else count_01\n",
    "    count_02 = count_02 + 1 if mes[2] == '02' else count_02\n",
    "    count_03 = count_03 + 1 if mes[2] == '03' else count_03\n",
    "    count_04 = count_04 + 1 if mes[2] == '04' else count_04\n",
    "    count_05 = count_05 + 1 if mes[2] == '05' else count_05\n",
    "    count_06 = count_06 + 1 if mes[2] == '06' else count_06\n",
    "    count_07 = count_07 + 1 if mes[2] == '07' else count_07\n",
    "    count_08 = count_08 + 1 if mes[2] == '08' else count_08\n",
    "    count_09 = count_09 + 1 if mes[2] == '09' else count_09\n",
    "    count_10 = count_10 + 1 if mes[2] == '10' else count_10\n",
    "    count_11 = count_11 + 1 if mes[2] == '11' else count_11\n",
    "    count_12 = count_12 + 1 if mes[2] == '12' else count_12\n",
    "        \n",
    "print(\"Durante los meses de enero se dieron {} muertes por armas de fuego\".format(str(count_01)))\n",
    "print(\"Durante los meses de febrero se dieron {} muertes por armas de fuego\".format(str(count_02)))\n",
    "print(\"Durante los meses de marzo se dieron {} muertes por armas de fuego\".format(str(count_03)))\n",
    "print(\"Durante los meses de abril se dieron {} muertes por armas de fuego\".format(str(count_04)))\n",
    "print(\"Durante los meses de mayo se dieron {} muertes por armas de fuego\".format(str(count_05)))\n",
    "print(\"Durante los meses de junio se dieron {} muertes por armas de fuego\".format(str(count_06)))\n",
    "print(\"Durante los meses de julio se dieron {} muertes por armas de fuego\".format(str(count_07)))\n",
    "print(\"Durante los meses de agosto se dieron {} muertes por armas de fuego\".format(str(count_08)))\n",
    "print(\"Durante los meses de septiembre se dieron {} muertes por armas de fuego\".format(str(count_09)))\n",
    "print(\"Durante los meses de octubre se dieron {} muertes por armas de fuego\".format(str(count_10)))\n",
    "print(\"Durante los meses de noviembre se dieron {} muertes por armas de fuego\".format(str(count_11)))\n",
    "print(\"Durante los meses de diciembre se dieron {} muertes por armas de fuego\".format(str(count_12)))"
   ]
  },
  {
   "cell_type": "markdown",
   "metadata": {},
   "source": [
    "##### b. ¿Existe una correlación entre las razones de muertes por armas y la ubicación (location)? (Muestre su análisis con código y escriba en una celda sus observaciones)"
   ]
  },
  {
   "cell_type": "code",
   "execution_count": null,
   "metadata": {},
   "outputs": [],
   "source": [
    "place = set(place)\n",
    "print(place)\n",
    "count_farm     = 0\n",
    "count_oth_spec = 0\n",
    "count_street   = 0\n",
    "count_home     = 0\n",
    "count_res      = 0\n",
    "count_sports   = 0\n",
    "count_na       = 0\n",
    "count_oth_unsp = 0\n",
    "count_school   = 0\n",
    "count_trade    = 0\n",
    "count_ind      = 0\n",
    "\n",
    "for lugar in raw_data:\n",
    "    count_farm     = count_farm     + 1 if lugar[9] == 'Farm' else count_farm\n",
    "    count_oth_spec = count_oth_spec + 1 if lugar[9] == 'Other specified' else count_oth_spec\n",
    "    count_street   = count_street   + 1 if lugar[9] == 'Street' else count_street\n",
    "    count_home     = count_home     + 1 if lugar[9] == 'Home' else count_home\n",
    "    count_res      = count_res      + 1 if lugar[9] == 'Residential institution' else count_res\n",
    "    count_sports   = count_sports   + 1 if lugar[9] == 'Sports' else count_sports\n",
    "    count_na       = count_na       + 1 if lugar[9] == 'NA' else count_na\n",
    "    count_oth_unsp = count_oth_unsp + 1 if lugar[9] == 'Other unspecified' else count_oth_unsp\n",
    "    count_school   = count_school   + 1 if lugar[9] == 'School/instiution' else count_school\n",
    "    count_trade    = count_trade    + 1 if lugar[9] == 'Trade/service area' else count_trade\n",
    "    count_ind      = count_ind      + 1 if lugar[9] == 'Industrial/construction' else count_ind\n",
    "    \n",
    "print(\"En total se dieron {} muertes por armas de fuego en granjas\".format(str(count_farm)))\n",
    "print(\"En total se dieron {} muertes por armas de fuego en otros lugares\".format(str(count_oth_spec)))\n",
    "print(\"En total se dieron {} muertes por armas de fuego en calles\".format(str(count_street)))\n",
    "print(\"En total se dieron {} muertes por armas de fuego en casas\".format(str(count_home)))\n",
    "print(\"En total se dieron {} muertes por armas de fuego en residencias\".format(str(count_res)))\n",
    "print(\"En total se dieron {} muertes por armas de fuego en lugares deportivos\".format(str(count_sports)))\n",
    "print(\"En total se dieron {} muertes por armas de fuego tuvieron un sitio no especificado\".format(str(count_na)))\n",
    "print(\"En total se dieron {} muertes por armas de fuego en lugares no especificados\".format(str(count_oth_unsp)))\n",
    "print(\"En total se dieron {} muertes por armas de fuego en escuelas\".format(str(count_school)))\n",
    "print(\"En total se dieron {} muertes por armas de fuego en lugares de comercio\".format(str(count_trade)))\n",
    "print(\"En total se dieron {} muertes por armas de fuego en parques industriales\".format(str(count_ind)))"
   ]
  },
  {
   "cell_type": "markdown",
   "metadata": {},
   "source": [
    "##### c. ¿Existe una correlación entre las razones de muertes por armas y el nivel educativo?  (Muestre su análisis con código y escriba en una celda sus observaciones)"
   ]
  },
  {
   "cell_type": "code",
   "execution_count": null,
   "metadata": {},
   "outputs": [],
   "source": [
    "print(set(education))\n",
    "count_ba_plus  = 0\n",
    "count_hs_ged   = 0\n",
    "count_some_c   = 0\n",
    "count_less_hs  = 0\n",
    "count_na       = 0\n",
    "\n",
    "for educ in raw_data:\n",
    "    count_ba_plus = count_ba_plus + 1 if educ[10] == 'BA+' else count_ba_plus\n",
    "    count_hs_ged  = count_hs_ged + 1 if educ[10] == 'HS/GED' else count_hs_ged\n",
    "    count_some_c  = count_some_c + 1 if educ[10] == 'Some college' else count_some_c\n",
    "    count_less_hs = count_less_hs + 1 if educ[10] == 'Less than HS' else count_less_hs\n",
    "    count_na      = count_na + 1 if educ[10] == 'NA' else count_na\n",
    "    \n",
    "print(\"BA+ : {}\".format(str(count_ba_plus)))\n",
    "print(\"HS/GED : {}\".format(str(count_hs_ged)))\n",
    "print(\"Some college : {}\".format(str(count_some_c)))\n",
    "print(\"Less than HS : {}\".format(str(count_less_hs)))\n",
    "print(\"NA : {}\".format(str(count_na)))"
   ]
  },
  {
   "cell_type": "markdown",
   "metadata": {},
   "source": [
    "##### d. ¿Cuál es la razón de homicidios por género?"
   ]
  },
  {
   "cell_type": "code",
   "execution_count": null,
   "metadata": {},
   "outputs": [],
   "source": [
    "count_male = 0\n",
    "count_female = 0\n",
    "\n",
    "for sex in raw_data:\n",
    "    count_male = count_male + 1 if sex[5] == \"M\" else count_male\n",
    "    count_female = count_female + 1 if sex[5] == \"F\" else count_female\n",
    "\n",
    "ratio = count_male / count_female\n",
    "\n",
    "print(\"Por cada mujer que fallece por armas de fuego {0:.2f} hombres mueren\".format(float(ratio)))"
   ]
  },
  {
   "cell_type": "markdown",
   "metadata": {},
   "source": [
    "##### e. ¿Cuál es la relación, si es que hay, entre la categoría del incidente y raza? Por ejemplo los incidentes accidentales son más propensos en alguna raza?"
   ]
  },
  {
   "cell_type": "code",
   "execution_count": null,
   "metadata": {},
   "outputs": [],
   "source": [
    "print(set(race))\n",
    "print(set(intent))\n",
    "\n",
    "count_w_s = 0\n",
    "count_w_h = 0\n",
    "count_w_a = 0\n",
    "count_w_u = 0\n",
    "count_w_n = 0\n",
    "\n",
    "count_b_s = 0\n",
    "count_b_h = 0\n",
    "count_b_a = 0\n",
    "count_b_u = 0\n",
    "count_b_n = 0\n",
    "\n",
    "count_n_s = 0\n",
    "count_n_h = 0\n",
    "count_n_a = 0\n",
    "count_n_u = 0\n",
    "count_n_n = 0\n",
    "\n",
    "count_h_s = 0\n",
    "count_h_h = 0\n",
    "count_h_a = 0\n",
    "count_h_u = 0\n",
    "count_h_n = 0\n",
    "\n",
    "count_a_s = 0\n",
    "count_a_h = 0\n",
    "count_a_a = 0\n",
    "count_a_u = 0\n",
    "count_a_n = 0\n",
    "\n",
    "for i in raw_data:\n",
    "    if i[7] == \"White\" and i[3] == \"Suicide\":\n",
    "        count_w_s += 1\n",
    "    elif i[7] == \"White\" and i[3] == \"Homicide\":\n",
    "        count_w_h += 1\n",
    "    elif i[7] == \"White\" and i[3] == \"Accidental\":\n",
    "        count_w_a += 1\n",
    "    elif i[7] == \"White\" and i[3] == \"Undetermined\":\n",
    "        count_w_u += 1\n",
    "    elif i[7] == \"White\" and i[3] == \"NA\":\n",
    "        count_w_n += 1\n",
    "    elif i[7] == \"Black\" and i[3] == \"Suicide\":\n",
    "        count_b_s += 1\n",
    "    elif i[7] == \"Black\" and i[3] == \"Homicide\":\n",
    "        count_b_h += 1\n",
    "    elif i[7] == \"Black\" and i[3] == \"Accidental\":\n",
    "        count_b_a += 1\n",
    "    elif i[7] == \"Black\" and i[3] == \"Undetermined\":\n",
    "        count_b_u += 1\n",
    "    elif i[7] == \"Black\" and i[3] == \"NA\":\n",
    "        count_b_n += 1   \n",
    "    elif i[7] == \"Native American/Native Alaskan\" and i[3] == \"Suicide\":\n",
    "        count_n_s += 1\n",
    "    elif i[7] == \"Native American/Native Alaskan\" and i[3] == \"Homicide\":\n",
    "        count_n_h += 1\n",
    "    elif i[7] == \"Native American/Native Alaskan\" and i[3] == \"Accidental\":\n",
    "        count_n_a += 1\n",
    "    elif i[7] == \"Native American/Native Alaskan\" and i[3] == \"Undetermined\":\n",
    "        count_n_u += 1\n",
    "    elif i[7] == \"Native American/Native Alaskan\" and i[3] == \"NA\":\n",
    "        count_n_n += 1\n",
    "    elif i[7] == \"Hispanic\" and i[3] == \"Suicide\":\n",
    "        count_h_s += 1\n",
    "    elif i[7] == \"Hispanic\" and i[3] == \"Homicide\":\n",
    "        count_h_h += 1\n",
    "    elif i[7] == \"Hispanic\" and i[3] == \"Accidental\":\n",
    "        count_h_a += 1\n",
    "    elif i[7] == \"Hispanic\" and i[3] == \"Undetermined\":\n",
    "        count_h_u += 1\n",
    "    elif i[7] == \"Hispanic\" and i[3] == \"NA\":\n",
    "        count_h_n += 1\n",
    "    elif i[7] == \"Asian/Pacific Islander\" and i[3] == \"Suicide\":\n",
    "        count_a_s += 1\n",
    "    elif i[7] == \"Asian/Pacific Islander\" and i[3] == \"Homicide\":\n",
    "        count_a_h += 1\n",
    "    elif i[7] == \"Asian/Pacific Islander\" and i[3] == \"Accidental\":\n",
    "        count_a_a += 1\n",
    "    elif i[7] == \"Asian/Pacific Islander\" and i[3] == \"Undetermined\":\n",
    "        count_a_u += 1\n",
    "    elif i[7] == \"Asian/Pacific Islander\" and i[3] == \"NA\":\n",
    "        count_a_n += 1\n",
    "        \n",
    "        \n",
    "print(count_n_s)\n",
    "print(count_n_h)\n",
    "print(count_n_a)\n",
    "print(count_n_u)\n",
    "print(count_n_n)"
   ]
  },
  {
   "cell_type": "code",
   "execution_count": null,
   "metadata": {},
   "outputs": [],
   "source": [
    "print(\"                         |  Suicide | Homicide | Accidental | Undetermined |    NA   |\")\n",
    "print(\"-------------------------|----------|----------|------------|--------------|---------|\")\n",
    "print(\" Native American/Alaskan | {}      | {}      | {}         | {}           | {}       |\".format(int(count_n_s),int(count_n_h),int(count_n_a),int(count_n_u),int(count_n_n)))\n",
    "print(\"-------------------------|----------|----------|------------|--------------|---------|\")\n",
    "print(\"        White            | {}    | {}     | {}       | {}          | {}       |\".format(int(count_w_s),int(count_w_h),int(count_w_a),int(count_w_u),int(count_w_n)))\n",
    "print(\"-------------------------|----------|----------|------------|--------------|---------|\")\n",
    "print(\"        Black            | {}     | {}    | {}        | {}          | {}       |\".format(int(count_b_s),int(count_b_h),int(count_b_a),int(count_b_u),int(count_b_n)))\n",
    "print(\"-------------------------|----------|----------|------------|--------------|---------|\")\n",
    "print(\"        Hispanic         | {}     | {}     | {}        | {}           | {}       |\".format(int(count_h_s),int(count_h_h),int(count_h_a),int(count_h_u),int(count_h_n)))\n",
    "print(\"-------------------------|----------|----------|------------|--------------|---------|\")\n",
    "print(\" Asian/Pacific Islander  | {}      | {}      | {}         | {}           | {}       |\".format(int(count_a_s),int(count_a_h),int(count_a_a),int(count_a_u),int(count_a_n)))"
   ]
  },
  {
   "cell_type": "code",
   "execution_count": 95,
   "metadata": {},
   "outputs": [],
   "source": []
  },
  {
   "cell_type": "code",
   "execution_count": 96,
   "metadata": {},
   "outputs": [],
   "source": []
  },
  {
   "cell_type": "code",
   "execution_count": null,
   "metadata": {},
   "outputs": [],
   "source": []
  },
  {
   "cell_type": "code",
   "execution_count": null,
   "metadata": {},
   "outputs": [],
   "source": []
  }
 ],
 "metadata": {
  "kernelspec": {
   "display_name": "Python 3",
   "language": "python",
   "name": "python3"
  },
  "language_info": {
   "codemirror_mode": {
    "name": "ipython",
    "version": 3
   },
   "file_extension": ".py",
   "mimetype": "text/x-python",
   "name": "python",
   "nbconvert_exporter": "python",
   "pygments_lexer": "ipython3",
   "version": "3.7.0"
  }
 },
 "nbformat": 4,
 "nbformat_minor": 2
}
